{
  "nbformat": 4,
  "nbformat_minor": 0,
  "metadata": {
    "colab": {
      "provenance": [],
      "authorship_tag": "ABX9TyPzeR2mgmd7pEHuRcaYixH5",
      "include_colab_link": true
    },
    "kernelspec": {
      "name": "python3",
      "display_name": "Python 3"
    },
    "language_info": {
      "name": "python"
    }
  },
  "cells": [
    {
      "cell_type": "markdown",
      "metadata": {
        "id": "view-in-github",
        "colab_type": "text"
      },
      "source": [
        "<a href=\"https://colab.research.google.com/github/PradhyumnaBait/Python-Projects-GoogleColab/blob/main/PYthonChallenge.ipynb\" target=\"_parent\"><img src=\"https://colab.research.google.com/assets/colab-badge.svg\" alt=\"Open In Colab\"/></a>"
      ]
    },
    {
      "cell_type": "markdown",
      "source": [
        "# **Doubt Questions**"
      ],
      "metadata": {
        "id": "Moal1Mx6TBN-"
      }
    },
    {
      "cell_type": "code",
      "source": [
        "length=int(input(\"Enter the length of list - \"))\n",
        "\n",
        "list=[]\n",
        "for x in range(length):\n",
        "  a=input(\"Enter the elements of list - \")\n",
        "  list.append(a)\n",
        "print(list)"
      ],
      "metadata": {
        "colab": {
          "base_uri": "https://localhost:8080/"
        },
        "id": "AOSPmOESTKDW",
        "outputId": "770e66d3-b64c-4867-9dae-8d0ebb8cf0c2"
      },
      "execution_count": null,
      "outputs": [
        {
          "output_type": "stream",
          "name": "stdout",
          "text": [
            "Enter the length of list - 3\n",
            "Enter the elements of list - a\n",
            "Enter the elements of list - b\n",
            "Enter the elements of list - \n",
            "['a', 'b', '']\n"
          ]
        }
      ]
    },
    {
      "cell_type": "markdown",
      "source": [
        "# 4/05/2025 - Day 1 - List"
      ],
      "metadata": {
        "id": "8uaFhaGO-T3U"
      }
    },
    {
      "cell_type": "code",
      "source": [
        "a=[\"a\",\"b\",\"c\",\"d\"]\n",
        "b=[\"x\",\"y\",\"z\",\"aa\"]\n",
        "\n",
        "a.extend(b)\n",
        "print(a)"
      ],
      "metadata": {
        "colab": {
          "base_uri": "https://localhost:8080/"
        },
        "id": "GJbtM48s8cQM",
        "outputId": "08172888-eb24-4564-bf02-2eee8877c098"
      },
      "execution_count": null,
      "outputs": [
        {
          "output_type": "stream",
          "name": "stdout",
          "text": [
            "['a', 'b', 'c', 'd', 'x', 'y', 'z', 'aa']\n"
          ]
        }
      ]
    },
    {
      "cell_type": "code",
      "source": [
        "a=[\"a\",\"b\",\"c\",\"d\"]\n",
        "b=[\"x\",\"y\",\"z\",\"aa\"]\n",
        "\n",
        "b.extend(a)\n",
        "print(b)"
      ],
      "metadata": {
        "colab": {
          "base_uri": "https://localhost:8080/"
        },
        "id": "AtjSNs4t7-Cz",
        "outputId": "c04d9f6d-3a48-4932-ead2-a05ee833d2bb"
      },
      "execution_count": null,
      "outputs": [
        {
          "output_type": "stream",
          "name": "stdout",
          "text": [
            "['x', 'y', 'z', 'aa', 'a', 'b', 'c', 'd']\n"
          ]
        }
      ]
    },
    {
      "cell_type": "code",
      "source": [
        "a=[\"a\",\"b\",\"c\",\"d\",1,2,3]\n",
        "\n",
        "a.remove(1)\n",
        "a.remove(\"b\")\n",
        "print(a)"
      ],
      "metadata": {
        "colab": {
          "base_uri": "https://localhost:8080/"
        },
        "id": "Hj-L6gge8kAE",
        "outputId": "cc8ad64f-a700-4df8-ff6d-05923db298b1"
      },
      "execution_count": null,
      "outputs": [
        {
          "output_type": "stream",
          "name": "stdout",
          "text": [
            "['a', 'c', 'd', 2, 3]\n"
          ]
        }
      ]
    },
    {
      "cell_type": "code",
      "source": [
        "a=[\"a\",\"b\",\"c\",\"d\"]\n",
        "a.pop(1)\n",
        "print(a)"
      ],
      "metadata": {
        "colab": {
          "base_uri": "https://localhost:8080/"
        },
        "id": "fzMQIzN_84ZR",
        "outputId": "f4680178-a7aa-4e77-d3d9-a9756ea95397"
      },
      "execution_count": null,
      "outputs": [
        {
          "output_type": "stream",
          "name": "stdout",
          "text": [
            "['a', 'c', 'd']\n"
          ]
        }
      ]
    },
    {
      "cell_type": "code",
      "source": [
        "a=[\"a\",\"b\",\"c\",\"d\",\"e\"]\n",
        "a.pop()\n",
        "print(a)"
      ],
      "metadata": {
        "colab": {
          "base_uri": "https://localhost:8080/"
        },
        "id": "9qbfgJNZ8_Wd",
        "outputId": "0ad1cdfe-9f36-46dc-f3c1-6b2a914996c1"
      },
      "execution_count": null,
      "outputs": [
        {
          "output_type": "stream",
          "name": "stdout",
          "text": [
            "['a', 'b', 'c', 'd']\n"
          ]
        }
      ]
    },
    {
      "cell_type": "code",
      "source": [
        "a=[\"a\",\"b\",\"c\",\"d\"]\n",
        "del a[1]\n",
        "print(a)"
      ],
      "metadata": {
        "colab": {
          "base_uri": "https://localhost:8080/"
        },
        "id": "iLSPNa3N9Z7w",
        "outputId": "83690907-865d-4619-b5af-97f15fd1fa0d"
      },
      "execution_count": null,
      "outputs": [
        {
          "output_type": "stream",
          "name": "stdout",
          "text": [
            "['a', 'c', 'd']\n"
          ]
        }
      ]
    },
    {
      "cell_type": "code",
      "source": [
        "a=[\"a\",\"b\",\"c\",\"d\"]\n",
        "a.clear()\n",
        "print(a)"
      ],
      "metadata": {
        "colab": {
          "base_uri": "https://localhost:8080/"
        },
        "id": "QHfSNK8A9j0O",
        "outputId": "89b67d96-a574-4a96-c880-43f3c2564cb4"
      },
      "execution_count": null,
      "outputs": [
        {
          "output_type": "stream",
          "name": "stdout",
          "text": [
            "[]\n"
          ]
        }
      ]
    },
    {
      "cell_type": "code",
      "source": [
        "a=['b','a','d','g','z']\n",
        "a.sort()\n",
        "print(a)"
      ],
      "metadata": {
        "colab": {
          "base_uri": "https://localhost:8080/"
        },
        "id": "Wd1jgEVsVYKb",
        "outputId": "0ea95c2f-2a48-4f9b-c220-bfbc5f8afa33"
      },
      "execution_count": null,
      "outputs": [
        {
          "output_type": "stream",
          "name": "stdout",
          "text": [
            "['a', 'b', 'd', 'g', 'z']\n"
          ]
        }
      ]
    },
    {
      "cell_type": "code",
      "source": [
        "a=[6,3,1,4,5,6]\n",
        "a.sort()\n",
        "print(a)"
      ],
      "metadata": {
        "colab": {
          "base_uri": "https://localhost:8080/"
        },
        "id": "3LbVpS8OVbjy",
        "outputId": "d366e656-798f-44a7-e524-8d0b60cd0aaf"
      },
      "execution_count": null,
      "outputs": [
        {
          "output_type": "stream",
          "name": "stdout",
          "text": [
            "[1, 3, 4, 5, 6, 6]\n"
          ]
        }
      ]
    },
    {
      "cell_type": "code",
      "source": [
        "a=['b','a','d','g','z']\n",
        "a.sort(reverse=True)\n",
        "print(a)"
      ],
      "metadata": {
        "colab": {
          "base_uri": "https://localhost:8080/"
        },
        "id": "NC2cLUyKVe1O",
        "outputId": "2710b0f5-8f47-491f-a0b1-194c7dc6b12c"
      },
      "execution_count": null,
      "outputs": [
        {
          "output_type": "stream",
          "name": "stdout",
          "text": [
            "['z', 'g', 'd', 'b', 'a']\n"
          ]
        }
      ]
    },
    {
      "cell_type": "code",
      "source": [
        "a=[3,5,9,1,4,2,0,6,8,7]\n",
        "a.sort(reverse=True)\n",
        "print(a)"
      ],
      "metadata": {
        "colab": {
          "base_uri": "https://localhost:8080/"
        },
        "id": "sml80ht6VgYG",
        "outputId": "aa1dc3eb-633f-458c-be56-7d6cbf35e77a"
      },
      "execution_count": null,
      "outputs": [
        {
          "output_type": "stream",
          "name": "stdout",
          "text": [
            "[9, 8, 7, 6, 5, 4, 3, 2, 1, 0]\n"
          ]
        }
      ]
    },
    {
      "cell_type": "code",
      "source": [
        "# Does not sort the List\n",
        "# Only reverse\n",
        "\n",
        "a=['b','a','d','g','z']\n",
        "a.reverse()\n",
        "print(a)"
      ],
      "metadata": {
        "colab": {
          "base_uri": "https://localhost:8080/"
        },
        "id": "tVwPdvGZVsJy",
        "outputId": "e9b966a3-aeef-4cee-d462-c58dad2721dd"
      },
      "execution_count": null,
      "outputs": [
        {
          "output_type": "stream",
          "name": "stdout",
          "text": [
            "['z', 'g', 'd', 'a', 'b']\n"
          ]
        }
      ]
    },
    {
      "cell_type": "code",
      "source": [
        "a=['b','a','d','g','z']\n",
        "b=a.copy()\n",
        "print(b)"
      ],
      "metadata": {
        "colab": {
          "base_uri": "https://localhost:8080/"
        },
        "id": "dwPYrUk9V8hj",
        "outputId": "6a6a4fce-cece-42b3-f479-a85a40931fc6"
      },
      "execution_count": null,
      "outputs": [
        {
          "output_type": "stream",
          "name": "stdout",
          "text": [
            "['b', 'a', 'd', 'g', 'z']\n"
          ]
        }
      ]
    },
    {
      "cell_type": "code",
      "source": [
        "a=['b','a','d','g','z']\n",
        "b=['p','q','r']\n",
        "c=a+b\n",
        "print(c)"
      ],
      "metadata": {
        "colab": {
          "base_uri": "https://localhost:8080/"
        },
        "id": "941MJkdfWZdw",
        "outputId": "7a3cf693-2c5a-4f90-91c1-88533eb1e36c"
      },
      "execution_count": null,
      "outputs": [
        {
          "output_type": "stream",
          "name": "stdout",
          "text": [
            "['b', 'a', 'd', 'g', 'z', 'p', 'q', 'r']\n"
          ]
        }
      ]
    },
    {
      "cell_type": "code",
      "source": [
        "a=['b','a','d','g','z']\n",
        "b=[1,2,3]\n",
        "\n",
        "for x in b:\n",
        "  a.append(x)\n",
        "print(a)"
      ],
      "metadata": {
        "colab": {
          "base_uri": "https://localhost:8080/"
        },
        "id": "c4pfd3cGWdSi",
        "outputId": "ce5014a4-bdc3-4d54-f524-0e09160d1eff"
      },
      "execution_count": null,
      "outputs": [
        {
          "output_type": "stream",
          "name": "stdout",
          "text": [
            "['b', 'a', 'd', 'g', 'z', 1, 2, 3]\n"
          ]
        }
      ]
    },
    {
      "cell_type": "code",
      "source": [
        "a=int(input(\"Enter The First Number - \"))\n",
        "b=int(input(\"Enter The Second Number - \"))\n",
        "c=int(input(\"Enter The Third Number - \"))\n",
        "d=[a,b,c]\n",
        "print(d)"
      ],
      "metadata": {
        "colab": {
          "base_uri": "https://localhost:8080/"
        },
        "id": "N6KxcpF0Wh2W",
        "outputId": "5f21a8bf-75ef-4c7d-ae26-41c3567a67a7"
      },
      "execution_count": null,
      "outputs": [
        {
          "output_type": "stream",
          "name": "stdout",
          "text": [
            "Enter The First Number - 1\n",
            "Enter The Second Number - 2\n",
            "Enter The Third Number - 3\n",
            "[1, 2, 3]\n"
          ]
        }
      ]
    },
    {
      "cell_type": "code",
      "source": [
        "a=input(\"Enter the 1 element\")\n",
        "b=input(\"Enter the 2 element\")\n",
        "c=input(\"Enter the 3 element\")\n",
        "d=input(\"Enter the 4 element\")\n",
        "e=input(\"Enter the 5 element\")\n",
        "\n",
        "list=[a,b,c,d,e]\n",
        "print(list)"
      ],
      "metadata": {
        "colab": {
          "base_uri": "https://localhost:8080/"
        },
        "id": "FIxiQfMIWoWf",
        "outputId": "3ea8f10f-70b2-4ff6-a271-423f205bf0af"
      },
      "execution_count": null,
      "outputs": [
        {
          "output_type": "stream",
          "name": "stdout",
          "text": [
            "Enter the 1 elementabc\n",
            "Enter the 2 elementpqr\n",
            "Enter the 3 elementxyz\n",
            "Enter the 4 elementhello\n",
            "Enter the 5 elementGoodBye\n",
            "['abc', 'pqr', 'xyz', 'hello', 'GoodBye']\n"
          ]
        }
      ]
    },
    {
      "cell_type": "code",
      "source": [
        "a=[\"a\",\"b\",\"c\",\"d\"]\n",
        "\n",
        "print(len(a))"
      ],
      "metadata": {
        "colab": {
          "base_uri": "https://localhost:8080/"
        },
        "id": "enNdpJ_c93hy",
        "outputId": "5abc515f-223f-4bec-f6b5-33ab9629db90"
      },
      "execution_count": null,
      "outputs": [
        {
          "output_type": "stream",
          "name": "stdout",
          "text": [
            "4\n"
          ]
        }
      ]
    },
    {
      "cell_type": "code",
      "source": [
        "a=[\"a\",\"b\",\"c\",\"d\"]\n",
        "\n",
        "for i in range(len(a)):\n",
        "  print(i)"
      ],
      "metadata": {
        "colab": {
          "base_uri": "https://localhost:8080/"
        },
        "id": "0cGVAvbs9uwo",
        "outputId": "5b50b1b4-6b1f-4e13-9f47-60c37c54377c"
      },
      "execution_count": null,
      "outputs": [
        {
          "output_type": "stream",
          "name": "stdout",
          "text": [
            "0\n",
            "1\n",
            "2\n",
            "3\n"
          ]
        }
      ]
    },
    {
      "cell_type": "code",
      "source": [
        "a=[\"a\",\"b\",\"c\",\"d\"]\n",
        "i=0\n",
        "while i<len(a):\n",
        "  print(i)\n",
        "  i=i+1"
      ],
      "metadata": {
        "colab": {
          "base_uri": "https://localhost:8080/"
        },
        "id": "iBllGxwTU3SS",
        "outputId": "3d5e6b56-c4f9-40a5-bfbb-ad55f7d59a4e"
      },
      "execution_count": null,
      "outputs": [
        {
          "output_type": "stream",
          "name": "stdout",
          "text": [
            "0\n",
            "1\n",
            "2\n",
            "3\n"
          ]
        }
      ]
    },
    {
      "cell_type": "markdown",
      "source": [
        "# 5/05/2025 - Day 2 - List"
      ],
      "metadata": {
        "id": "DsopgBqbOvQs"
      }
    },
    {
      "cell_type": "code",
      "source": [
        "animal=['zebra','Antelope','Tiger','Chimpanzee','Lion']\n",
        "\n",
        "print(animal)"
      ],
      "metadata": {
        "colab": {
          "base_uri": "https://localhost:8080/"
        },
        "id": "HzEHP0gQO4aw",
        "outputId": "e2bebffd-0722-498d-8ef7-bf31038244ec"
      },
      "execution_count": null,
      "outputs": [
        {
          "output_type": "stream",
          "name": "stdout",
          "text": [
            "['zebra', 'Antelope', 'Tiger', 'Chimpanzee', 'Lion']\n"
          ]
        }
      ]
    },
    {
      "cell_type": "code",
      "source": [
        "ages=[29,0,5,67,8,5,4]\n",
        "\n",
        "print(ages)"
      ],
      "metadata": {
        "colab": {
          "base_uri": "https://localhost:8080/"
        },
        "id": "v5HAVIkDPKF_",
        "outputId": "017e5636-2225-42d5-fcbb-9e7781a642b2"
      },
      "execution_count": null,
      "outputs": [
        {
          "output_type": "stream",
          "name": "stdout",
          "text": [
            "[29, 0, 5, 67, 8, 5, 4]\n"
          ]
        }
      ]
    },
    {
      "cell_type": "code",
      "source": [
        "num=[10,15,'*',\"Hello\",True, False]*5\n",
        "\n",
        "print(num)"
      ],
      "metadata": {
        "colab": {
          "base_uri": "https://localhost:8080/"
        },
        "id": "qOwpOesRPQ_q",
        "outputId": "6019f384-cbc5-46f1-e8de-2b4bb7ee029b"
      },
      "execution_count": null,
      "outputs": [
        {
          "output_type": "stream",
          "name": "stdout",
          "text": [
            "[10, 15, '*', 'Hello', True, False, 10, 15, '*', 'Hello', True, False, 10, 15, '*', 'Hello', True, False, 10, 15, '*', 'Hello', True, False, 10, 15, '*', 'Hello', True, False]\n"
          ]
        }
      ]
    },
    {
      "cell_type": "code",
      "source": [
        "lst=[ ]\n",
        "\n",
        "print(lst)"
      ],
      "metadata": {
        "colab": {
          "base_uri": "https://localhost:8080/"
        },
        "id": "2rKftiM_PkpF",
        "outputId": "f6ae7bfd-a8f9-47f3-fea3-d92bfb54be49"
      },
      "execution_count": null,
      "outputs": [
        {
          "output_type": "stream",
          "name": "stdout",
          "text": [
            "[]\n"
          ]
        }
      ]
    },
    {
      "cell_type": "code",
      "source": [
        "a=[2,1]\n",
        "b=[1,2]\n",
        "\n",
        "if a<b:\n",
        "  print(\"a is Less than b\")\n",
        "elif a==b:\n",
        "  print(\"A is Equal to b\")\n",
        "else:\n",
        "  print(\"B is less than a\")\n",
        "\n",
        "\n",
        "if a>b:\n",
        "  print(\"A is Greater than B\")\n",
        "elif a==b:\n",
        "  print(\"A is Equal to B\")\n",
        "else:\n",
        "  print(\"B is Greater than A\")"
      ],
      "metadata": {
        "colab": {
          "base_uri": "https://localhost:8080/"
        },
        "id": "n12ehrn1Puus",
        "outputId": "9dffe64d-8c52-4a93-f55a-ffb01443419b"
      },
      "execution_count": null,
      "outputs": [
        {
          "output_type": "stream",
          "name": "stdout",
          "text": [
            "B is less than a\n",
            "A is Greater than B\n"
          ]
        }
      ]
    },
    {
      "cell_type": "code",
      "source": [
        "a=[1,2,3,4]\n",
        "b=[1,2,3]\n",
        "\n",
        "c=a+b\n",
        "\n",
        "print(c)"
      ],
      "metadata": {
        "colab": {
          "base_uri": "https://localhost:8080/"
        },
        "id": "vlhz99MXQYJx",
        "outputId": "4eb7666d-a097-41bb-97e4-08dbc367e38c"
      },
      "execution_count": null,
      "outputs": [
        {
          "output_type": "stream",
          "name": "stdout",
          "text": [
            "[1, 2, 3, 4, 1, 2, 3]\n"
          ]
        }
      ]
    },
    {
      "cell_type": "code",
      "source": [
        "b=[1,1,1]\n",
        "\n",
        "print(a+b+a+b)"
      ],
      "metadata": {
        "colab": {
          "base_uri": "https://localhost:8080/"
        },
        "id": "EJRoZDBNQc6d",
        "outputId": "6cd746fb-49cb-490c-da81-7e4704e0ceaf"
      },
      "execution_count": null,
      "outputs": [
        {
          "output_type": "stream",
          "name": "stdout",
          "text": [
            "[1, 2, 3, 4, 1, 1, 1, 1, 2, 3, 4, 1, 1, 1]\n"
          ]
        }
      ]
    },
    {
      "cell_type": "code",
      "source": [
        "b=[\"wow\",\"Bhow\",\"Makaow\",\"Chow\",\"Pakaow\"]\n",
        "\n",
        "\n",
        "print(len(b))"
      ],
      "metadata": {
        "colab": {
          "base_uri": "https://localhost:8080/"
        },
        "id": "QBQDD1wfQpqA",
        "outputId": "786978a4-e8b6-4d49-dfe5-203b9e16123b"
      },
      "execution_count": null,
      "outputs": [
        {
          "output_type": "stream",
          "name": "stdout",
          "text": [
            "5\n"
          ]
        }
      ]
    },
    {
      "cell_type": "code",
      "source": [
        "abc=['apple','orange','tamatar','batata']\n",
        "\n",
        "\n",
        "print(type(abc))"
      ],
      "metadata": {
        "colab": {
          "base_uri": "https://localhost:8080/"
        },
        "id": "57ZH6OGrQxBY",
        "outputId": "9ec967f9-fcb5-4798-a1ae-5786a1ee3331"
      },
      "execution_count": null,
      "outputs": [
        {
          "output_type": "stream",
          "name": "stdout",
          "text": [
            "<class 'list'>\n"
          ]
        }
      ]
    },
    {
      "cell_type": "code",
      "source": [
        "abc=list(('abc','pqr','xyz'))\n",
        "\n",
        "\n",
        "print(abc)"
      ],
      "metadata": {
        "colab": {
          "base_uri": "https://localhost:8080/"
        },
        "id": "T09wEcwZQ1Oo",
        "outputId": "5eabf549-cf63-4dbc-b6c7-050e5112e032"
      },
      "execution_count": null,
      "outputs": [
        {
          "output_type": "stream",
          "name": "stdout",
          "text": [
            "['abc', 'pqr', 'xyz']\n"
          ]
        }
      ]
    },
    {
      "cell_type": "code",
      "source": [
        "a=['apple','abc','cherry']\n",
        "\n",
        "if a[1]=='ggg':\n",
        "  print(\"Safarjan\")\n",
        "else:\n",
        "  print(\"Bananna\")"
      ],
      "metadata": {
        "colab": {
          "base_uri": "https://localhost:8080/"
        },
        "id": "R3OKze2jXfOe",
        "outputId": "c3332ec4-ca57-4d92-d2e1-1fb4bd3cd72f"
      },
      "execution_count": null,
      "outputs": [
        {
          "output_type": "stream",
          "name": "stdout",
          "text": [
            "Bananna\n"
          ]
        }
      ]
    },
    {
      "cell_type": "code",
      "source": [
        "a=['apple','abc','cherry']\n",
        "print(a[1])"
      ],
      "metadata": {
        "colab": {
          "base_uri": "https://localhost:8080/"
        },
        "id": "4Ab0hQLGXoR-",
        "outputId": "96a8e14c-ae32-40d5-d318-abb1b9198a74"
      },
      "execution_count": null,
      "outputs": [
        {
          "output_type": "stream",
          "name": "stdout",
          "text": [
            "abc\n"
          ]
        }
      ]
    },
    {
      "cell_type": "code",
      "source": [
        "a=['apple','abc','cherry']\n",
        "print(a[-1])"
      ],
      "metadata": {
        "colab": {
          "base_uri": "https://localhost:8080/"
        },
        "id": "C_E1rWcZXrWN",
        "outputId": "8f387d86-6d3a-46db-9d41-045f8a427073"
      },
      "execution_count": null,
      "outputs": [
        {
          "output_type": "stream",
          "name": "stdout",
          "text": [
            "cherry\n"
          ]
        }
      ]
    },
    {
      "cell_type": "code",
      "source": [
        "a=['apple','abc','cherry']\n",
        "print(a[0:2])"
      ],
      "metadata": {
        "colab": {
          "base_uri": "https://localhost:8080/"
        },
        "id": "b5asZ05NXvPG",
        "outputId": "17f8dc97-6b48-4a15-e711-e1491394af7a"
      },
      "execution_count": null,
      "outputs": [
        {
          "output_type": "stream",
          "name": "stdout",
          "text": [
            "['apple', 'abc']\n"
          ]
        }
      ]
    },
    {
      "cell_type": "code",
      "source": [
        "a=[\"a\",\"b\",\"c\",\"d\"]\n",
        "a[1]=\"Master\"\n",
        "a[0]=\"Blaster\"\n",
        "print(a)"
      ],
      "metadata": {
        "colab": {
          "base_uri": "https://localhost:8080/"
        },
        "id": "QJ_qMSO0XyzW",
        "outputId": "8bd2150a-4d5f-45b5-f4df-ae3483b35261"
      },
      "execution_count": null,
      "outputs": [
        {
          "output_type": "stream",
          "name": "stdout",
          "text": [
            "['Blaster', 'Master', 'c', 'd']\n"
          ]
        }
      ]
    },
    {
      "cell_type": "code",
      "source": [
        "a=[\"a\",\"b\",\"c\",\"d\"]\n",
        "a[1:3]=[\"WOW\",\"ABC\"]\n",
        "\n",
        "a[1]=\"Master\"\n",
        "a[0]=\"Blaster\"\n",
        "\n",
        "print(a)"
      ],
      "metadata": {
        "colab": {
          "base_uri": "https://localhost:8080/"
        },
        "id": "jAb9SaSYX2qN",
        "outputId": "48e0a93b-8738-4b13-cf47-961f3adf6e33"
      },
      "execution_count": null,
      "outputs": [
        {
          "output_type": "stream",
          "name": "stdout",
          "text": [
            "['Blaster', 'Master', 'ABC', 'd']\n"
          ]
        }
      ]
    },
    {
      "cell_type": "code",
      "source": [
        "a=[\"a\",\"b\",\"c\",\"d\"]\n",
        "\n",
        "a.insert(2,\"Master\")\n",
        "print(a)"
      ],
      "metadata": {
        "colab": {
          "base_uri": "https://localhost:8080/"
        },
        "id": "dqvwWksSX9z-",
        "outputId": "ec60a24d-e4a5-4adc-b156-19f8d513464d"
      },
      "execution_count": null,
      "outputs": [
        {
          "output_type": "stream",
          "name": "stdout",
          "text": [
            "['a', 'b', 'Master', 'c', 'd']\n"
          ]
        }
      ]
    },
    {
      "cell_type": "code",
      "source": [
        "a=[\"a\",\"b\",\"c\",\"d\"]\n",
        "a.append(\"Blaster\")\n",
        "print(a)"
      ],
      "metadata": {
        "colab": {
          "base_uri": "https://localhost:8080/"
        },
        "id": "uDSIN4aKYB_F",
        "outputId": "176514f2-8371-4009-a8b0-32346ba86e58"
      },
      "execution_count": null,
      "outputs": [
        {
          "output_type": "stream",
          "name": "stdout",
          "text": [
            "['a', 'b', 'c', 'd', 'Blaster']\n"
          ]
        }
      ]
    },
    {
      "cell_type": "code",
      "source": [
        "a=['b','a','d','g','z']\n",
        "b=list(a)\n",
        "print(b)"
      ],
      "metadata": {
        "colab": {
          "base_uri": "https://localhost:8080/"
        },
        "id": "tYskxJ4OJTY_",
        "outputId": "42e703d2-3f10-45db-cd24-ac3ac3f950d5"
      },
      "execution_count": null,
      "outputs": [
        {
          "output_type": "stream",
          "name": "stdout",
          "text": [
            "['b', 'a', 'd', 'g', 'z']\n"
          ]
        }
      ]
    },
    {
      "cell_type": "markdown",
      "source": [
        "# While loop"
      ],
      "metadata": {
        "id": "FA1gvzSOS11K"
      }
    },
    {
      "cell_type": "code",
      "source": [
        "i=0\n",
        "\n",
        "A=int(input(\"Enter the Number\") )\n",
        "\n",
        "while i<=A:\n",
        "  print(i)\n",
        "  i=i+1"
      ],
      "metadata": {
        "colab": {
          "base_uri": "https://localhost:8080/"
        },
        "id": "sUv73m3-S7uZ",
        "outputId": "0a48d337-fcb4-4d44-d708-896ccbfb3eac"
      },
      "execution_count": null,
      "outputs": [
        {
          "output_type": "stream",
          "name": "stdout",
          "text": [
            "Enter the Number10\n",
            "0\n",
            "1\n",
            "2\n",
            "3\n",
            "4\n",
            "5\n",
            "6\n",
            "7\n",
            "8\n",
            "9\n",
            "10\n"
          ]
        }
      ]
    },
    {
      "cell_type": "code",
      "source": [
        "A=int(input(\"Enter the Ending number\"))\n",
        "\n",
        "i=A\n",
        "\n",
        "while i>=0:\n",
        "  print(i)\n",
        "  i=i-1"
      ],
      "metadata": {
        "colab": {
          "base_uri": "https://localhost:8080/"
        },
        "id": "rBmgkmYmTQ5_",
        "outputId": "ba9e5880-eb7c-4bfa-ed50-2f0bfd1f7989"
      },
      "execution_count": null,
      "outputs": [
        {
          "output_type": "stream",
          "name": "stdout",
          "text": [
            "Enter the Ending number5\n",
            "5\n",
            "4\n",
            "3\n",
            "2\n",
            "1\n",
            "0\n"
          ]
        }
      ]
    },
    {
      "cell_type": "code",
      "source": [
        "num=int(input(\"Enter The Table\"))\n",
        "end=int(input(\"Enter The End Number\"))\n",
        "\n",
        "i=1\n",
        "while i<=end:\n",
        "  print(num,\"*\",i,\"=\",num*i)\n",
        "  i=i+1"
      ],
      "metadata": {
        "colab": {
          "base_uri": "https://localhost:8080/"
        },
        "id": "_iyrqd87TqMI",
        "outputId": "c34541c1-faae-401d-dc20-3c28f2f0508d"
      },
      "execution_count": null,
      "outputs": [
        {
          "output_type": "stream",
          "name": "stdout",
          "text": [
            "Enter The Table5\n",
            "Enter The End Number10\n",
            "5 * 1 = 5\n",
            "5 * 2 = 10\n",
            "5 * 3 = 15\n",
            "5 * 4 = 20\n",
            "5 * 5 = 25\n",
            "5 * 6 = 30\n",
            "5 * 7 = 35\n",
            "5 * 8 = 40\n",
            "5 * 9 = 45\n",
            "5 * 10 = 50\n"
          ]
        }
      ]
    },
    {
      "cell_type": "code",
      "source": [
        "fact=1\n",
        "i=1\n",
        "\n",
        "num=int(input(\"enter the number:\"))\n",
        "\n",
        "while i<=num:\n",
        "  fact=fact*i\n",
        "  print(fact,end='    ')\n",
        "  i=i+1"
      ],
      "metadata": {
        "colab": {
          "base_uri": "https://localhost:8080/"
        },
        "id": "VONaBSDvU5Ar",
        "outputId": "eca994d7-ecb0-4c05-8625-b856a6c6b10c"
      },
      "execution_count": null,
      "outputs": [
        {
          "output_type": "stream",
          "name": "stdout",
          "text": [
            "enter the number:5\n",
            "1    2    6    24    120    "
          ]
        }
      ]
    },
    {
      "cell_type": "code",
      "source": [
        "\n",
        "A=int(input(\"Enter the Number\"))\n",
        "\n",
        "i=A\n",
        "while 1:\n",
        "  print(i,end='    ')\n",
        "  i-=1\n",
        "  if i<5:\n",
        "    break"
      ],
      "metadata": {
        "colab": {
          "base_uri": "https://localhost:8080/"
        },
        "id": "VkHAXs3sVNAL",
        "outputId": "b9c2b066-1e67-49c0-928d-f57967804b7c"
      },
      "execution_count": null,
      "outputs": [
        {
          "output_type": "stream",
          "name": "stdout",
          "text": [
            "Enter the Number15\n",
            "15    14    13    12    11    10    9    8    7    6    5    "
          ]
        }
      ]
    },
    {
      "cell_type": "code",
      "source": [
        "a=int(input(\"Enter The Table\"))\n",
        "\n",
        "i=a\n",
        "while i<=a:\n",
        "  j=1\n",
        "  while j<11:\n",
        "    k=i*j\n",
        "    print(i,\"x\",j,\"=\",k)\n",
        "    j=j+1\n",
        "  i=i+1"
      ],
      "metadata": {
        "colab": {
          "base_uri": "https://localhost:8080/"
        },
        "id": "p9nN4Wu6VpS4",
        "outputId": "7227371a-ddfb-4e55-addc-9ded8b0a9986"
      },
      "execution_count": null,
      "outputs": [
        {
          "output_type": "stream",
          "name": "stdout",
          "text": [
            "Enter The Table5\n",
            "5 x 1 = 5\n",
            "5 x 2 = 10\n",
            "5 x 3 = 15\n",
            "5 x 4 = 20\n",
            "5 x 5 = 25\n",
            "5 x 6 = 30\n",
            "5 x 7 = 35\n",
            "5 x 8 = 40\n",
            "5 x 9 = 45\n",
            "5 x 10 = 50\n"
          ]
        }
      ]
    },
    {
      "cell_type": "markdown",
      "source": [
        "# For loop"
      ],
      "metadata": {
        "id": "qkedJO9rWTRC"
      }
    },
    {
      "cell_type": "code",
      "source": [
        "for i in range(1,10):\n",
        "  print(i)"
      ],
      "metadata": {
        "colab": {
          "base_uri": "https://localhost:8080/"
        },
        "id": "_svmw7tbWVsp",
        "outputId": "3703ed74-a208-43f8-c98e-75faa4c8dc5a"
      },
      "execution_count": null,
      "outputs": [
        {
          "output_type": "stream",
          "name": "stdout",
          "text": [
            "1\n",
            "2\n",
            "3\n",
            "4\n",
            "5\n",
            "6\n",
            "7\n",
            "8\n",
            "9\n"
          ]
        }
      ]
    },
    {
      "cell_type": "code",
      "source": [
        "for i in range(10,1,-1):\n",
        "  print(i)"
      ],
      "metadata": {
        "colab": {
          "base_uri": "https://localhost:8080/"
        },
        "id": "Nv3IM8Waa7Xi",
        "outputId": "e5b3f8ca-a456-41ab-a56c-00b9d008e98a"
      },
      "execution_count": null,
      "outputs": [
        {
          "output_type": "stream",
          "name": "stdout",
          "text": [
            "10\n",
            "9\n",
            "8\n",
            "7\n",
            "6\n",
            "5\n",
            "4\n",
            "3\n",
            "2\n"
          ]
        }
      ]
    },
    {
      "cell_type": "code",
      "source": [
        "\n",
        "for i in range(1,10,2):\n",
        "  print(i)"
      ],
      "metadata": {
        "colab": {
          "base_uri": "https://localhost:8080/"
        },
        "id": "Ra0iDPK_bI_z",
        "outputId": "12942449-4a89-4cc6-abfa-d35acd49d160"
      },
      "execution_count": null,
      "outputs": [
        {
          "output_type": "stream",
          "name": "stdout",
          "text": [
            "1\n",
            "3\n",
            "5\n",
            "7\n",
            "9\n"
          ]
        }
      ]
    },
    {
      "cell_type": "code",
      "source": [
        "A=int(input (\"Enter the starting number\"))\n",
        "B=int(input(\"Enter the ending number\"))\n",
        "C=int(input(\"Enter the difference \"))\n",
        "\n",
        "for i in range(A, B, C):\n",
        "  print(i)"
      ],
      "metadata": {
        "colab": {
          "base_uri": "https://localhost:8080/"
        },
        "id": "XjphO_nhbgxR",
        "outputId": "8e82271b-a8a1-4de0-de7b-d61de48e7fc4"
      },
      "execution_count": null,
      "outputs": [
        {
          "output_type": "stream",
          "name": "stdout",
          "text": [
            "Enter the starting number5\n",
            "Enter the ending number1\n",
            "Enter the difference -1\n",
            "5\n",
            "4\n",
            "3\n",
            "2\n"
          ]
        }
      ]
    },
    {
      "cell_type": "code",
      "source": [
        "\n",
        "A=int(input(\"Enter the number\"))\n",
        "\n",
        "number=A\n",
        "\n",
        "for i in range(1,10):\n",
        "  print(number,'x',i,'=',number*i)"
      ],
      "metadata": {
        "colab": {
          "base_uri": "https://localhost:8080/"
        },
        "id": "84bUjPj1bQMK",
        "outputId": "30ac5c03-5d3e-444d-af33-328d6506f898"
      },
      "execution_count": null,
      "outputs": [
        {
          "output_type": "stream",
          "name": "stdout",
          "text": [
            "Enter the number5\n",
            "5 x 1 = 5\n",
            "5 x 2 = 10\n",
            "5 x 3 = 15\n",
            "5 x 4 = 20\n",
            "5 x 5 = 25\n",
            "5 x 6 = 30\n",
            "5 x 7 = 35\n",
            "5 x 8 = 40\n",
            "5 x 9 = 45\n"
          ]
        }
      ]
    },
    {
      "cell_type": "code",
      "source": [
        "\n",
        "number=int(input(\"Enter Your Fav Table\"))\n",
        "end=int(input(\"Enter The End Value\"))\n",
        "\n",
        "for i in range(1,end+1):\n",
        "  print(number,'x',i,'=',number*i)"
      ],
      "metadata": {
        "colab": {
          "base_uri": "https://localhost:8080/"
        },
        "id": "oga_M0uWcZAc",
        "outputId": "c73bd61c-873b-4864-d537-830e18919920"
      },
      "execution_count": null,
      "outputs": [
        {
          "output_type": "stream",
          "name": "stdout",
          "text": [
            "Enter Your Fav Table5\n",
            "Enter The End Value10\n",
            "5 x 1 = 5\n",
            "5 x 2 = 10\n",
            "5 x 3 = 15\n",
            "5 x 4 = 20\n",
            "5 x 5 = 25\n",
            "5 x 6 = 30\n",
            "5 x 7 = 35\n",
            "5 x 8 = 40\n",
            "5 x 9 = 45\n",
            "5 x 10 = 50\n"
          ]
        }
      ]
    },
    {
      "cell_type": "code",
      "source": [
        "\n",
        "A=int(input(\"Enter the number \"))\n",
        "\n",
        "fact=1\n",
        "for i in range(1,A+1):\n",
        "  fact=fact*i\n",
        "  print(fact)"
      ],
      "metadata": {
        "colab": {
          "base_uri": "https://localhost:8080/"
        },
        "id": "CVNv3d7VcvAA",
        "outputId": "9cc77166-9894-48bc-a3d8-1c2e20a6c41d"
      },
      "execution_count": null,
      "outputs": [
        {
          "output_type": "stream",
          "name": "stdout",
          "text": [
            "Enter the number 5\n",
            "1\n",
            "2\n",
            "6\n",
            "24\n",
            "120\n"
          ]
        }
      ]
    },
    {
      "cell_type": "code",
      "source": [
        "\n",
        "# horizontal\n",
        "\n",
        "for i in range(1,10):\n",
        "  print(i,end='  ')"
      ],
      "metadata": {
        "colab": {
          "base_uri": "https://localhost:8080/"
        },
        "id": "5kIX2nRgdLNa",
        "outputId": "0f7bd918-978a-4f79-cae5-2d8a08bcb859"
      },
      "execution_count": null,
      "outputs": [
        {
          "output_type": "stream",
          "name": "stdout",
          "text": [
            "1  2  3  4  5  6  7  8  9  "
          ]
        }
      ]
    },
    {
      "cell_type": "markdown",
      "source": [
        "# For loop - Alpha"
      ],
      "metadata": {
        "id": "GVsrgTdCemld"
      }
    },
    {
      "cell_type": "code",
      "source": [
        "for alpha in range(97,122+1):\n",
        "  print(chr(alpha),end='  ')"
      ],
      "metadata": {
        "colab": {
          "base_uri": "https://localhost:8080/"
        },
        "id": "LSsK1YVHesCD",
        "outputId": "bde20848-19fb-46e5-81b8-92b0bab20041"
      },
      "execution_count": null,
      "outputs": [
        {
          "output_type": "stream",
          "name": "stdout",
          "text": [
            "a  b  c  d  e  f  g  h  i  j  k  l  m  n  o  p  q  r  s  t  u  v  w  x  y  z  "
          ]
        }
      ]
    },
    {
      "cell_type": "code",
      "source": [
        "for alpha in range(122,96,-1):\n",
        "  print(chr(alpha),end='  ')"
      ],
      "metadata": {
        "colab": {
          "base_uri": "https://localhost:8080/"
        },
        "id": "Cqxm-DVUe3Hx",
        "outputId": "7a9ee15e-0d4f-4559-858a-126ca7756f1a"
      },
      "execution_count": null,
      "outputs": [
        {
          "output_type": "stream",
          "name": "stdout",
          "text": [
            "z  y  x  w  v  u  t  s  r  q  p  o  n  m  l  k  j  i  h  g  f  e  d  c  b  a  "
          ]
        }
      ]
    },
    {
      "cell_type": "code",
      "source": [
        "for alpha in range(65,91):\n",
        "  print(chr(alpha),end='  ')"
      ],
      "metadata": {
        "id": "zXuWOmiMe8ts",
        "outputId": "65cf91ef-804b-4a15-fc5f-4fd9a8582234",
        "colab": {
          "base_uri": "https://localhost:8080/"
        }
      },
      "execution_count": null,
      "outputs": [
        {
          "output_type": "stream",
          "name": "stdout",
          "text": [
            "A  B  C  D  E  F  G  H  I  J  K  L  M  N  O  P  Q  R  S  T  U  V  W  X  Y  Z  "
          ]
        }
      ]
    },
    {
      "cell_type": "code",
      "source": [
        "for alpha in range(91,64,-1):\n",
        "  print(chr(alpha),end='  ')"
      ],
      "metadata": {
        "colab": {
          "base_uri": "https://localhost:8080/"
        },
        "id": "5P2E5AZvAsi8",
        "outputId": "3b497211-d2b4-4542-9230-556b72fa9e1e"
      },
      "execution_count": null,
      "outputs": [
        {
          "output_type": "stream",
          "name": "stdout",
          "text": [
            "[  Z  Y  X  W  V  U  T  S  R  Q  P  O  N  M  L  K  J  I  H  G  F  E  D  C  B  A  "
          ]
        }
      ]
    },
    {
      "cell_type": "code",
      "source": [
        "for i in range(3,4):\n",
        "  for j in range(1,11):\n",
        "    k=i*j\n",
        "    print(i,\"x\",j,\"=\",k)"
      ],
      "metadata": {
        "colab": {
          "base_uri": "https://localhost:8080/"
        },
        "id": "wjh7SXpcA6l5",
        "outputId": "fd7da01e-1367-4333-93b7-600ea8c12bee"
      },
      "execution_count": null,
      "outputs": [
        {
          "output_type": "stream",
          "name": "stdout",
          "text": [
            "3 x 1 = 3\n",
            "3 x 2 = 6\n",
            "3 x 3 = 9\n",
            "3 x 4 = 12\n",
            "3 x 5 = 15\n",
            "3 x 6 = 18\n",
            "3 x 7 = 21\n",
            "3 x 8 = 24\n",
            "3 x 9 = 27\n",
            "3 x 10 = 30\n"
          ]
        }
      ]
    },
    {
      "cell_type": "code",
      "source": [
        "a=int(input(\"Enter The Table\"))\n",
        "for i in range(a,a+1):\n",
        "  for j in range(1,11):\n",
        "    k=i*j\n",
        "    print(i,\"x\",j,\"=\",k)"
      ],
      "metadata": {
        "id": "TaQ6oYbMBAMh",
        "outputId": "763834a6-007b-425b-8634-6dc2056ea1be",
        "colab": {
          "base_uri": "https://localhost:8080/"
        }
      },
      "execution_count": null,
      "outputs": [
        {
          "output_type": "stream",
          "name": "stdout",
          "text": [
            "Enter The Table5\n",
            "5 x 1 = 5\n",
            "5 x 2 = 10\n",
            "5 x 3 = 15\n",
            "5 x 4 = 20\n",
            "5 x 5 = 25\n",
            "5 x 6 = 30\n",
            "5 x 7 = 35\n",
            "5 x 8 = 40\n",
            "5 x 9 = 45\n",
            "5 x 10 = 50\n"
          ]
        }
      ]
    },
    {
      "cell_type": "markdown",
      "source": [
        "# 6/05/2025 - Day 3"
      ],
      "metadata": {
        "id": "ocfMZTlFOko2"
      }
    },
    {
      "cell_type": "code",
      "source": [
        "a=input(\"Enter the city\")\n",
        "\n",
        "if a.lower()==\"mumbai\":\n",
        "  print(\"Local Train\")\n",
        "elif a.upper()==\"NSP\":\n",
        "  print(\"capital mall\")"
      ],
      "metadata": {
        "colab": {
          "base_uri": "https://localhost:8080/"
        },
        "id": "EmM3TDn9OpmZ",
        "outputId": "8290c623-9e6a-4ff6-9224-c7dbe2ba4453"
      },
      "execution_count": null,
      "outputs": [
        {
          "output_type": "stream",
          "name": "stdout",
          "text": [
            "Enter the citynsp\n",
            "capital mall\n"
          ]
        }
      ]
    },
    {
      "cell_type": "code",
      "source": [
        "for x in range(10):\n",
        "  print(x)\n",
        "else:\n",
        "  print(\"Completed\")"
      ],
      "metadata": {
        "colab": {
          "base_uri": "https://localhost:8080/"
        },
        "id": "g3_JEjnnO9OO",
        "outputId": "70947b00-88b7-4e5c-f63d-51f2d21b1f82"
      },
      "execution_count": null,
      "outputs": [
        {
          "output_type": "stream",
          "name": "stdout",
          "text": [
            "0\n",
            "1\n",
            "2\n",
            "3\n",
            "4\n",
            "5\n",
            "6\n",
            "7\n",
            "8\n",
            "9\n",
            "Completed\n"
          ]
        }
      ]
    },
    {
      "cell_type": "code",
      "source": [
        "for x in range(10):\n",
        "  if x==5:\n",
        "    break\n",
        "    print(x)\n",
        "  else:\n",
        "    print(\"Completed\")"
      ],
      "metadata": {
        "colab": {
          "base_uri": "https://localhost:8080/"
        },
        "id": "_6g4561SPDwI",
        "outputId": "0e798433-98f3-4957-aab4-56e1a9166113"
      },
      "execution_count": null,
      "outputs": [
        {
          "output_type": "stream",
          "name": "stdout",
          "text": [
            "Completed\n",
            "Completed\n",
            "Completed\n",
            "Completed\n",
            "Completed\n"
          ]
        }
      ]
    },
    {
      "cell_type": "code",
      "source": [
        "for x in [0,1,2]:\n",
        "  print(x)"
      ],
      "metadata": {
        "colab": {
          "base_uri": "https://localhost:8080/"
        },
        "id": "UjqZPIcqPIL_",
        "outputId": "0373d3c0-28da-440b-88ca-ad15ccc33610"
      },
      "execution_count": null,
      "outputs": [
        {
          "output_type": "stream",
          "name": "stdout",
          "text": [
            "0\n",
            "1\n",
            "2\n"
          ]
        }
      ]
    },
    {
      "cell_type": "code",
      "source": [
        "language=\"CProgramming\"\n",
        "for x in language:\n",
        "  print(x)"
      ],
      "metadata": {
        "colab": {
          "base_uri": "https://localhost:8080/"
        },
        "id": "M9FzdnEXPL1c",
        "outputId": "1807692b-b507-41cf-b708-f745bac0b822"
      },
      "execution_count": null,
      "outputs": [
        {
          "output_type": "stream",
          "name": "stdout",
          "text": [
            "C\n",
            "P\n",
            "r\n",
            "o\n",
            "g\n",
            "r\n",
            "a\n",
            "m\n",
            "m\n",
            "i\n",
            "n\n",
            "g\n"
          ]
        }
      ]
    },
    {
      "cell_type": "code",
      "source": [
        "language=\"CProgramming\"\n",
        "for x in language:\n",
        "  print(x,\"\\n\")"
      ],
      "metadata": {
        "colab": {
          "base_uri": "https://localhost:8080/"
        },
        "id": "ktvq9qc3PRkZ",
        "outputId": "529f59ea-6941-46f5-caf5-9e5eb7c51588"
      },
      "execution_count": null,
      "outputs": [
        {
          "output_type": "stream",
          "name": "stdout",
          "text": [
            "C \n",
            "\n",
            "P \n",
            "\n",
            "r \n",
            "\n",
            "o \n",
            "\n",
            "g \n",
            "\n",
            "r \n",
            "\n",
            "a \n",
            "\n",
            "m \n",
            "\n",
            "m \n",
            "\n",
            "i \n",
            "\n",
            "n \n",
            "\n",
            "g \n",
            "\n"
          ]
        }
      ]
    },
    {
      "cell_type": "code",
      "source": [
        "for i in range(1,3,1):\n",
        "  for j in range(1,4):\n",
        "    print(i,j)"
      ],
      "metadata": {
        "id": "AqXgZ4SvPVAK",
        "outputId": "459cd832-af35-42de-b8d7-720ae2200933",
        "colab": {
          "base_uri": "https://localhost:8080/"
        }
      },
      "execution_count": null,
      "outputs": [
        {
          "output_type": "stream",
          "name": "stdout",
          "text": [
            "1 1\n",
            "1 2\n",
            "1 3\n",
            "2 1\n",
            "2 2\n",
            "2 3\n"
          ]
        }
      ]
    },
    {
      "cell_type": "markdown",
      "source": [
        "# 7/05/2025 - Day 4 - Tuple"
      ],
      "metadata": {
        "id": "rhmGduRDTdaN"
      }
    },
    {
      "cell_type": "code",
      "source": [
        "a=(\"Rahul\",\"Suraj\",\"Mitesh\",\"Jayesh\",\"Mitesh\")\n",
        "print(a)"
      ],
      "metadata": {
        "colab": {
          "base_uri": "https://localhost:8080/"
        },
        "id": "GFDXrejrTyVS",
        "outputId": "5d602f21-94cd-4f59-901f-72b03950fbfb"
      },
      "execution_count": null,
      "outputs": [
        {
          "output_type": "stream",
          "name": "stdout",
          "text": [
            "('Rahul', 'Suraj', 'Mitesh', 'Jayesh', 'Mitesh')\n"
          ]
        }
      ]
    },
    {
      "cell_type": "code",
      "source": [
        "a=(\"Rahul\",\"Suraj\",\"Mitesh\",\"Jayesh\",\"Rahul\")\n",
        "print(len(a))"
      ],
      "metadata": {
        "colab": {
          "base_uri": "https://localhost:8080/"
        },
        "id": "oghGAeShZq1J",
        "outputId": "9374d5c8-5da3-44d4-c598-1b104bdfa564"
      },
      "execution_count": null,
      "outputs": [
        {
          "output_type": "stream",
          "name": "stdout",
          "text": [
            "5\n"
          ]
        }
      ]
    },
    {
      "cell_type": "code",
      "source": [
        "a=(\"Rahul\",123,True,\"Jayesh\",False)\n",
        "print(a)"
      ],
      "metadata": {
        "colab": {
          "base_uri": "https://localhost:8080/"
        },
        "id": "DNunx9mLZsly",
        "outputId": "7f84990f-c52e-463e-fe21-44269b3d7f29"
      },
      "execution_count": null,
      "outputs": [
        {
          "output_type": "stream",
          "name": "stdout",
          "text": [
            "('Rahul', 123, True, 'Jayesh', False)\n"
          ]
        }
      ]
    },
    {
      "cell_type": "code",
      "source": [
        "a=(\"Rahul\",\"Suraj\",\"Mitesh\",\"Jayesh\",\"Rahul\")\n",
        "print(type(a))\n"
      ],
      "metadata": {
        "colab": {
          "base_uri": "https://localhost:8080/"
        },
        "id": "sv-pk4AJZvdW",
        "outputId": "022c871b-19ed-4704-aef0-9a3ccf254c38"
      },
      "execution_count": null,
      "outputs": [
        {
          "output_type": "stream",
          "name": "stdout",
          "text": [
            "<class 'tuple'>\n"
          ]
        }
      ]
    },
    {
      "cell_type": "code",
      "source": [
        "a=tuple((\"Rahul\",\"Suraj\",\"Mitesh\",\"Jayesh\",\"Rahul\"))\n",
        "print(a)"
      ],
      "metadata": {
        "colab": {
          "base_uri": "https://localhost:8080/"
        },
        "id": "AXet87L8ZyL9",
        "outputId": "94c15b4d-3b24-46ee-ce36-5b26d1413354"
      },
      "execution_count": null,
      "outputs": [
        {
          "output_type": "stream",
          "name": "stdout",
          "text": [
            "('Rahul', 'Suraj', 'Mitesh', 'Jayesh', 'Rahul')\n"
          ]
        }
      ]
    },
    {
      "cell_type": "code",
      "source": [
        "a=(\"Rahul\",\"Suraj\",\"Mitesh\",\"Jayesh\",\"Rahul\")\n",
        "print(a[1])"
      ],
      "metadata": {
        "colab": {
          "base_uri": "https://localhost:8080/"
        },
        "id": "7MGoHUgFamyB",
        "outputId": "bf8dcce9-e519-4c8c-bb19-aea85eabb576"
      },
      "execution_count": null,
      "outputs": [
        {
          "output_type": "stream",
          "name": "stdout",
          "text": [
            "Suraj\n"
          ]
        }
      ]
    },
    {
      "cell_type": "code",
      "source": [
        "a=(\"Rahul\",\"Suraj\",\"Mitesh\",\"Jayesh\",\"Rahul\")\n",
        "print(a[-1])"
      ],
      "metadata": {
        "colab": {
          "base_uri": "https://localhost:8080/"
        },
        "id": "nXpBo4BGaomJ",
        "outputId": "a6c28eba-cb96-4eb8-ce7e-8eb98dea9411"
      },
      "execution_count": null,
      "outputs": [
        {
          "output_type": "stream",
          "name": "stdout",
          "text": [
            "Rahul\n"
          ]
        }
      ]
    },
    {
      "cell_type": "code",
      "source": [
        "a=(\"Rahul\",\"Suraj\",\"Mitesh\",\"Jayesh\",\"Rahul\")\n",
        "x=int(input(\"Enter The Starting Range\"))\n",
        "y=int(input(\"Enter The Ending Range\"))\n",
        "\n",
        "print(a[x:y])"
      ],
      "metadata": {
        "colab": {
          "base_uri": "https://localhost:8080/"
        },
        "id": "fhf-tz5Yasly",
        "outputId": "edc3509d-8714-4b90-863c-892add23e516"
      },
      "execution_count": null,
      "outputs": [
        {
          "output_type": "stream",
          "name": "stdout",
          "text": [
            "Enter The Starting Range2\n",
            "Enter The Ending Range4\n",
            "('Mitesh', 'Jayesh')\n"
          ]
        }
      ]
    },
    {
      "cell_type": "code",
      "source": [
        "a=(\"jigar\",\"Darshan\",\"Kapil\",\"Ramesh\")\n",
        "\n",
        "x=input(\"Enter The Username - \")\n",
        "\n",
        "if x.lower() or x.upper() in a:\n",
        "  print(\"Yes it is Present\")\n",
        "else:\n",
        "  print(\"No it is Not Present\")"
      ],
      "metadata": {
        "colab": {
          "base_uri": "https://localhost:8080/"
        },
        "id": "RJIEYmDJa0hB",
        "outputId": "658d43bf-6170-4975-9c2d-fab63a4d1be6"
      },
      "execution_count": null,
      "outputs": [
        {
          "output_type": "stream",
          "name": "stdout",
          "text": [
            "Enter The Username - ramesh\n",
            "Yes it is Present\n"
          ]
        }
      ]
    },
    {
      "cell_type": "code",
      "source": [
        "a=(\"Jigar\",\"Darshan\",\"Kapil\",\"Ramesh\")\n",
        "y=(\"Mahesh\",\"Rahul\")\n",
        "\n",
        "a+=y\n",
        "print(a)"
      ],
      "metadata": {
        "colab": {
          "base_uri": "https://localhost:8080/"
        },
        "id": "W-llLfgscTYi",
        "outputId": "bb6d5353-9770-4b48-d80b-185501c91f3d"
      },
      "execution_count": null,
      "outputs": [
        {
          "output_type": "stream",
          "name": "stdout",
          "text": [
            "('Jigar', 'Darshan', 'Kapil', 'Ramesh', 'Mahesh', 'Rahul')\n"
          ]
        }
      ]
    },
    {
      "cell_type": "code",
      "source": [
        "a=(\"Jigar\",\"Darshan\",\"Kapil\")\n",
        "(aa,bb,cc)=a\n",
        "print(aa)\n",
        "print(bb)\n",
        "print(cc)"
      ],
      "metadata": {
        "colab": {
          "base_uri": "https://localhost:8080/"
        },
        "id": "0MRaRAaNcZvE",
        "outputId": "392dd051-f6b8-4e0c-8c78-c08f59cdbda3"
      },
      "execution_count": null,
      "outputs": [
        {
          "output_type": "stream",
          "name": "stdout",
          "text": [
            "Jigar\n",
            "Darshan\n",
            "Kapil\n"
          ]
        }
      ]
    },
    {
      "cell_type": "code",
      "source": [
        "a=(\"Jigar\",\"Darshan\",\"Kapil\",\"Ramesh\")\n",
        "(aa,*bb,cc)=a\n",
        "print(aa)\n",
        "print(bb)\n",
        "print(cc)"
      ],
      "metadata": {
        "colab": {
          "base_uri": "https://localhost:8080/"
        },
        "id": "GMq-MtvncgEU",
        "outputId": "a3faf73a-c03d-45aa-f0a9-ab6841d1824c"
      },
      "execution_count": null,
      "outputs": [
        {
          "output_type": "stream",
          "name": "stdout",
          "text": [
            "Jigar\n",
            "['Darshan', 'Kapil']\n",
            "Ramesh\n"
          ]
        }
      ]
    },
    {
      "cell_type": "code",
      "source": [
        "a=(\"Jigar\",\"Darshan\",\"Kapil\",\"Ramesh\")\n",
        "y=list(a)\n",
        "y[1]=\"Kiwi\"\n",
        "x=tuple(y)\n",
        "print(x)"
      ],
      "metadata": {
        "colab": {
          "base_uri": "https://localhost:8080/"
        },
        "id": "5szuAeO9GmS-",
        "outputId": "775a1ea5-63f0-4031-ffab-cb97c2199d60"
      },
      "execution_count": null,
      "outputs": [
        {
          "output_type": "stream",
          "name": "stdout",
          "text": [
            "('Jigar', 'Kiwi', 'Kapil', 'Ramesh')\n"
          ]
        }
      ]
    },
    {
      "cell_type": "markdown",
      "source": [
        "# **10/06/2025 - Day 5 -Sets**"
      ],
      "metadata": {
        "id": "w4nSJ_4lGumd"
      }
    },
    {
      "cell_type": "code",
      "source": [
        "a={\"Karan\",\"Arjun\",\"Bhim\",\"Ram\",\"Vishal\"}\n",
        "\n",
        "print(a)"
      ],
      "metadata": {
        "colab": {
          "base_uri": "https://localhost:8080/"
        },
        "id": "_einQFzZG6iA",
        "outputId": "405565a9-822e-4d5a-c91e-6e5deb51e510"
      },
      "execution_count": null,
      "outputs": [
        {
          "output_type": "stream",
          "name": "stdout",
          "text": [
            "{'Vishal', 'Bhim', 'Ram', 'Arjun', 'Karan'}\n"
          ]
        }
      ]
    },
    {
      "cell_type": "code",
      "source": [
        "a={\"Karan\",\"Ram\",\"Bhim\",\"Ram\",\"Karan\"}\n",
        "\n",
        "print(a)"
      ],
      "metadata": {
        "colab": {
          "base_uri": "https://localhost:8080/"
        },
        "id": "JVUpQanqHKlj",
        "outputId": "a40be98f-fb6a-4cea-b806-0ab7219b4a23"
      },
      "execution_count": null,
      "outputs": [
        {
          "output_type": "stream",
          "name": "stdout",
          "text": [
            "{'Bhim', 'Ram', 'Karan'}\n"
          ]
        }
      ]
    },
    {
      "cell_type": "code",
      "source": [
        "a={\"Karan\",\"Arjun\",1,True,False,0,2,3,4,5,6,6,6,6}\n",
        "\n",
        "print(a)"
      ],
      "metadata": {
        "colab": {
          "base_uri": "https://localhost:8080/"
        },
        "id": "Ra-tkL8eHSew",
        "outputId": "bf7eb08f-2965-48c2-835b-c266a865a8b0"
      },
      "execution_count": null,
      "outputs": [
        {
          "output_type": "stream",
          "name": "stdout",
          "text": [
            "{False, 1, 2, 3, 4, 5, 6, 'Arjun', 'Karan'}\n"
          ]
        }
      ]
    },
    {
      "cell_type": "code",
      "source": [
        "a={\"Karan\",True,1,0,False}\n",
        "\n",
        "print(a)\n",
        "\n",
        "print(type(a))\n",
        "\n",
        "print(len(a))"
      ],
      "metadata": {
        "colab": {
          "base_uri": "https://localhost:8080/"
        },
        "id": "vkY3Aap7Hgyt",
        "outputId": "2742a6bf-6e34-46aa-9e8b-d1f8f8c1de8c"
      },
      "execution_count": null,
      "outputs": [
        {
          "output_type": "stream",
          "name": "stdout",
          "text": [
            "{0, True, 'Karan'}\n",
            "<class 'set'>\n",
            "3\n"
          ]
        }
      ]
    },
    {
      "cell_type": "code",
      "source": [
        "a={\"Jigar\",\"Darshan\",\"Kapil\"}\n",
        "b={1,3,4,5,6}\n",
        "c={True,False,True}\n",
        "\n",
        "print(a,b,c)"
      ],
      "metadata": {
        "colab": {
          "base_uri": "https://localhost:8080/"
        },
        "id": "O2K3Slo_IMNR",
        "outputId": "ec00aee2-7aa8-4edc-9e69-9f8d62b99ec9"
      },
      "execution_count": null,
      "outputs": [
        {
          "output_type": "stream",
          "name": "stdout",
          "text": [
            "{'Kapil', 'Jigar', 'Darshan'} {1, 3, 4, 5, 6} {False, True}\n"
          ]
        }
      ]
    },
    {
      "cell_type": "code",
      "source": [
        "a={\"Jigar\",\"Darshan\",\"Kapil\"}\n",
        "b={1,3,4,5,6}\n",
        "c={True,False,True}\n",
        "print(a)\n",
        "print(b)\n",
        "print(c)"
      ],
      "metadata": {
        "colab": {
          "base_uri": "https://localhost:8080/"
        },
        "id": "XsEvlCofIR0C",
        "outputId": "e9808f38-0270-445c-ea8c-77b8bd13185c"
      },
      "execution_count": null,
      "outputs": [
        {
          "output_type": "stream",
          "name": "stdout",
          "text": [
            "{'Kapil', 'Jigar', 'Darshan'}\n",
            "{1, 3, 4, 5, 6}\n",
            "{False, True}\n"
          ]
        }
      ]
    },
    {
      "cell_type": "code",
      "source": [
        "a=set((\"Jigar\",\"Darshan\",\"Kapil\"))\n",
        "\n",
        "print(a)"
      ],
      "metadata": {
        "colab": {
          "base_uri": "https://localhost:8080/"
        },
        "id": "LDhQ0_ZgIV85",
        "outputId": "b8aa2ccc-0f76-4d3f-fb1f-cdc14f4b452c"
      },
      "execution_count": null,
      "outputs": [
        {
          "output_type": "stream",
          "name": "stdout",
          "text": [
            "{'Kapil', 'Jigar', 'Darshan'}\n"
          ]
        }
      ]
    },
    {
      "cell_type": "code",
      "source": [
        "a={\"Karan\",\"Ram\",True,1,0,False}\n",
        "\n",
        "b=list(a)*2\n",
        "x=set(b)\n",
        "\n",
        "print(x)    # Same elemets are not repeated, even when multiplied."
      ],
      "metadata": {
        "colab": {
          "base_uri": "https://localhost:8080/"
        },
        "id": "W16s4UhWSqzh",
        "outputId": "b7959c61-06c6-438a-c431-8de3ab3a0a68"
      },
      "execution_count": null,
      "outputs": [
        {
          "output_type": "stream",
          "name": "stdout",
          "text": [
            "{0, 'Ram', 'Karan', True}\n"
          ]
        }
      ]
    },
    {
      "cell_type": "code",
      "source": [
        "a={\"Karan\",\"Arjun\",\"Ram\"}\n",
        "b={True,False}\n",
        "\n",
        "x=list(a)\n",
        "y=list(b)\n",
        "c=x+y\n",
        "z=set(c)\n",
        "\n",
        "print(z)"
      ],
      "metadata": {
        "colab": {
          "base_uri": "https://localhost:8080/"
        },
        "id": "srewejjdTWj8",
        "outputId": "f9f951dc-9305-4618-d5d3-6a615c1845da"
      },
      "execution_count": null,
      "outputs": [
        {
          "output_type": "stream",
          "name": "stdout",
          "text": [
            "{False, True, 'Karan', 'Arjun', 'Ram'}\n"
          ]
        }
      ]
    },
    {
      "cell_type": "code",
      "source": [
        "a={\"karan\",\"Arjun\",\"ram\",\"Sita\",True,1,0,False}\n",
        "x=list(a)\n",
        "\n",
        "print(x[1])\n",
        "print(x[0:2])\n",
        "\n",
        "x[1]=\"MASTER\"\n",
        "x[2]=\"Hero\"\n",
        "y=set(x)\n",
        "\n",
        "print(y)"
      ],
      "metadata": {
        "colab": {
          "base_uri": "https://localhost:8080/"
        },
        "id": "kenduENsT5fr",
        "outputId": "b34c17e0-228b-4bbf-dc6c-7bf29bf74e4b"
      },
      "execution_count": null,
      "outputs": [
        {
          "output_type": "stream",
          "name": "stdout",
          "text": [
            "True\n",
            "[0, True]\n",
            "{0, 'Arjun', 'karan', 'Sita', 'MASTER', 'Hero'}\n"
          ]
        }
      ]
    },
    {
      "cell_type": "code",
      "source": [],
      "metadata": {
        "id": "qN_maenAxbDs"
      },
      "execution_count": null,
      "outputs": []
    },
    {
      "cell_type": "code",
      "source": [
        "a={\"Karan\",\"Arjun\",\"Vishal\",\"Parth\"}\n",
        "\n",
        "check=input(\"Enter the element to find\")\n",
        "\n",
        "if check.lower() or check.upper() in a:\n",
        "  print(\"Present\")\n",
        "else:\n",
        "  print(\"Absent\")"
      ],
      "metadata": {
        "colab": {
          "base_uri": "https://localhost:8080/"
        },
        "id": "11UYw7rqQ8NW",
        "outputId": "a09a25a7-9331-485c-8a34-c232017e6c22"
      },
      "execution_count": null,
      "outputs": [
        {
          "output_type": "stream",
          "name": "stdout",
          "text": [
            "Enter the element to findkaran\n",
            "Present\n"
          ]
        }
      ]
    },
    {
      "cell_type": "code",
      "source": [
        "a={\"Karan\",\"Arjun\",\"Ram\",\"Laxman\"}\n",
        "b=list(a)\n",
        "b[1]=\"Sita\"\n",
        "x=set(b)\n",
        "print(x)"
      ],
      "metadata": {
        "colab": {
          "base_uri": "https://localhost:8080/"
        },
        "id": "p23xBtgxRn1q",
        "outputId": "60d01d05-9bca-4644-f203-fa404ec6c2bf"
      },
      "execution_count": null,
      "outputs": [
        {
          "output_type": "stream",
          "name": "stdout",
          "text": [
            "{'Ram', 'Laxman', 'Karan', 'Sita'}\n"
          ]
        }
      ]
    },
    {
      "cell_type": "code",
      "source": [],
      "metadata": {
        "id": "If1--iMXSCRj"
      },
      "execution_count": null,
      "outputs": []
    },
    {
      "cell_type": "markdown",
      "source": [
        "# **11/06/2025 - Day 6 -Dictionary**"
      ],
      "metadata": {
        "id": "ux83J87VDKFi"
      }
    },
    {
      "cell_type": "code",
      "source": [
        "a={\n",
        "    \"name\":\"pradhyumna\",\n",
        "    \"surename\":\"Bait\",\n",
        "    \"Age\":17,\n",
        "    \"Designation\":\"Programmer\"\n",
        "}\n",
        "\n",
        "print(a)"
      ],
      "metadata": {
        "colab": {
          "base_uri": "https://localhost:8080/"
        },
        "id": "T_KSnZSoDTm2",
        "outputId": "2dd2bf91-3f06-43bc-c29c-3bd8125987c4"
      },
      "execution_count": null,
      "outputs": [
        {
          "output_type": "stream",
          "name": "stdout",
          "text": [
            "{'name': 'pradhyumna', 'surename': 'Bait', 'Age': 17, 'Designation': 'Programmer'}\n"
          ]
        }
      ]
    },
    {
      "cell_type": "code",
      "source": [
        "a={\n",
        "    \"name\":\"pradhyumna\",\n",
        "    \"surename\":\"Bait\",\n",
        "    \"Age\":17,\n",
        "    \"Designation\":\"Programmer\"\n",
        "}\n",
        "\n",
        "print(a[\"Age\"])\n",
        "print(a[\"name\"])"
      ],
      "metadata": {
        "colab": {
          "base_uri": "https://localhost:8080/"
        },
        "id": "wBdsbo3zEL1F",
        "outputId": "2d954696-609c-4efb-dc9a-09de0cf426c7"
      },
      "execution_count": null,
      "outputs": [
        {
          "output_type": "stream",
          "name": "stdout",
          "text": [
            "17\n",
            "pradhyumna\n"
          ]
        }
      ]
    },
    {
      "cell_type": "code",
      "source": [
        "a={\n",
        "    \"name\":\"pradhyumna\",\n",
        "    \"surename\":\"Bait\",\n",
        "    \"Age\":17,\n",
        "    \"Designation\":\"IT Field\",\n",
        "    \"Designation\":\"Programmer\",\n",
        "    \"Designation\":\"Programmer\"\n",
        "}\n",
        "\n",
        "print(a)"
      ],
      "metadata": {
        "colab": {
          "base_uri": "https://localhost:8080/"
        },
        "id": "xu-bKI2EEbTD",
        "outputId": "a287ecc6-0a4b-4db9-ced1-3ac0c27f5421"
      },
      "execution_count": null,
      "outputs": [
        {
          "output_type": "stream",
          "name": "stdout",
          "text": [
            "{'name': 'pradhyumna', 'surename': 'Bait', 'Age': 17, 'Designation': 'Programmer'}\n"
          ]
        }
      ]
    },
    {
      "cell_type": "code",
      "source": [
        "a={\n",
        "    \"name\":\"pradhyumna\",\n",
        "    \"surename\":\"Bait\",\n",
        "    \"Age\":17,\n",
        "    \"Designation\":\"Programmer\"\n",
        "}\n",
        "\n",
        "print(len(a))"
      ],
      "metadata": {
        "colab": {
          "base_uri": "https://localhost:8080/"
        },
        "id": "DodXXl2_ExiR",
        "outputId": "0e0bdca5-a2c7-4cdc-eab0-47386f1948b9"
      },
      "execution_count": null,
      "outputs": [
        {
          "output_type": "stream",
          "name": "stdout",
          "text": [
            "4\n"
          ]
        }
      ]
    },
    {
      "cell_type": "code",
      "source": [
        "a={\n",
        "    \"name\":\"pradhyumna\",\n",
        "    \"surename\":\"Bait\",\n",
        "    \"Age\":17,\n",
        "    \"Designation\":\"Programmer\",\n",
        "    \"fruit\":\n",
        "    {\n",
        "        'Apple','chikoo','Kiwi','Mango'\n",
        "    }\n",
        "}\n",
        "\n",
        "print(a)"
      ],
      "metadata": {
        "colab": {
          "base_uri": "https://localhost:8080/"
        },
        "id": "2p9uuBiZE01T",
        "outputId": "30c15981-fee6-4c8c-b76f-2f16c836f23d"
      },
      "execution_count": null,
      "outputs": [
        {
          "output_type": "stream",
          "name": "stdout",
          "text": [
            "{'name': 'pradhyumna', 'surename': 'Bait', 'Age': 17, 'Designation': 'Programmer', 'fruit': {'Mango', 'Kiwi', 'Apple', 'chikoo'}}\n"
          ]
        }
      ]
    },
    {
      "cell_type": "code",
      "source": [
        "a={\n",
        "    \"name\":\"pradhyumna\",\n",
        "    \"surename\":\"Bait\",\n",
        "    \"Age\":17,\n",
        "    \"Designation\":\"Programmer\"\n",
        "}\n",
        "\n",
        "print(type(a))"
      ],
      "metadata": {
        "colab": {
          "base_uri": "https://localhost:8080/"
        },
        "id": "MAmpU85mFIl5",
        "outputId": "c7abfcef-0a9b-4b86-edfe-bd555d55a41b"
      },
      "execution_count": null,
      "outputs": [
        {
          "output_type": "stream",
          "name": "stdout",
          "text": [
            "<class 'dict'>\n"
          ]
        }
      ]
    },
    {
      "cell_type": "code",
      "source": [
        "a=dict(name=\"pradhyumna\",surename=\"Bait\",Age=22,Designation=\"programmer\")\n",
        "\n",
        "print(a)"
      ],
      "metadata": {
        "colab": {
          "base_uri": "https://localhost:8080/"
        },
        "id": "Ryg_b3fjFNXU",
        "outputId": "e2435ff3-887f-42f7-b7aa-39966f2889a5"
      },
      "execution_count": null,
      "outputs": [
        {
          "output_type": "stream",
          "name": "stdout",
          "text": [
            "{'name': 'pradhyumna', 'surename': 'Bait', 'Age': 22, 'Designation': 'programmer'}\n"
          ]
        }
      ]
    },
    {
      "cell_type": "code",
      "source": [
        "a={\n",
        "    \"name\":\"pradhyumna\",\n",
        "    \"surename\":\"Bait\",\n",
        "    \"Age\":17,\n",
        "    \"Designation\":\"Programmer\"\n",
        "}\n",
        "\n",
        "check=input(\"Enter the element - \")\n",
        "\n",
        "if check in a:\n",
        "  print(\"Hello\")\n",
        "else:\n",
        "  print(\"Chalo\")"
      ],
      "metadata": {
        "colab": {
          "base_uri": "https://localhost:8080/"
        },
        "id": "a5IGqCLwFlob",
        "outputId": "e93ca8e8-5630-4204-9e0a-5b26a761d7c1"
      },
      "execution_count": null,
      "outputs": [
        {
          "output_type": "stream",
          "name": "stdout",
          "text": [
            "Enter the element - Age\n",
            "Hello\n"
          ]
        }
      ]
    },
    {
      "cell_type": "code",
      "source": [
        "a={\n",
        "    \"name\":\"pradhyumna\",\n",
        "    \"surename\":\"Bait\",\n",
        "    \"Age\":17,\n",
        "    \"Designation\":\"Programmer\"\n",
        "}\n",
        "\n",
        "check=input(\"Enter the element - \")\n",
        "\n",
        "print(a[check])"
      ],
      "metadata": {
        "colab": {
          "base_uri": "https://localhost:8080/"
        },
        "id": "8LuvSwf6Jfs-",
        "outputId": "20966a4b-498b-487b-8244-4e4479267953"
      },
      "execution_count": null,
      "outputs": [
        {
          "output_type": "stream",
          "name": "stdout",
          "text": [
            "Enter the elementAge\n",
            "17\n"
          ]
        }
      ]
    },
    {
      "cell_type": "code",
      "source": [
        "a={\n",
        "    \"name\":\"pradhyumna\",\n",
        "    \"surename\":\"Bait\",\n",
        "}\n",
        "\n",
        "b={\n",
        "        \"Age\":17,\n",
        "    \"Designation\":\"Programmer\"\n",
        "}\n",
        "\n",
        "c={**a, **b}\n",
        "print(c)"
      ],
      "metadata": {
        "id": "hIYxYPP0L2Ck",
        "colab": {
          "base_uri": "https://localhost:8080/"
        },
        "outputId": "5caa31b0-8fbd-4aaa-d885-424ee4a9b757"
      },
      "execution_count": null,
      "outputs": [
        {
          "output_type": "stream",
          "name": "stdout",
          "text": [
            "{'name': 'pradhyumna', 'surename': 'Bait', 'Age': 17, 'Designation': 'Programmer'}\n"
          ]
        }
      ]
    },
    {
      "cell_type": "markdown",
      "source": [
        "# **12/06/2025 - Day 7 - FUNCTION**"
      ],
      "metadata": {
        "id": "tM3SeSsmJm-i"
      }
    },
    {
      "cell_type": "code",
      "source": [
        "def pradhyumna():\n",
        "  print(\"Hello, World!\")\n",
        "pradhyumna()"
      ],
      "metadata": {
        "colab": {
          "base_uri": "https://localhost:8080/"
        },
        "id": "mLlJOQn6JzMj",
        "outputId": "720ffc5e-02de-41ea-de07-d5ac96dcb7c3"
      },
      "execution_count": null,
      "outputs": [
        {
          "output_type": "stream",
          "name": "stdout",
          "text": [
            "Hello, World!\n"
          ]
        }
      ]
    },
    {
      "cell_type": "code",
      "source": [
        "def arthamatic():\n",
        "  a=int(input(\"Enter the numbers - \"))\n",
        "  b=int(input(\"Enter the numbers - \"))\n",
        "  c=a+b\n",
        "  d=a-b\n",
        "  e=a*b\n",
        "  f=a/b\n",
        "  print(\"The Addition is - \",c)\n",
        "  print(\"The Subtration is - \",d)\n",
        "  print(\"The Multiplication is - \",e)\n",
        "  print(\"The Division is - \",f)\n",
        "arthamatic()"
      ],
      "metadata": {
        "colab": {
          "base_uri": "https://localhost:8080/"
        },
        "id": "DcoMuWF4J_pV",
        "outputId": "2afc054d-a1d8-4277-e002-070a69d7440a"
      },
      "execution_count": null,
      "outputs": [
        {
          "output_type": "stream",
          "name": "stdout",
          "text": [
            "Enter the numbers - 15\n",
            "Enter the numbers - 10\n",
            "The Addition is -  25\n",
            "The Subtration is -  5\n",
            "The Multiplication is -  150\n",
            "The Division is -  1.5\n"
          ]
        }
      ]
    },
    {
      "cell_type": "code",
      "source": [
        "def fact():\n",
        "  a=int(input(\"Enter the 1st number - \"))\n",
        "  fact=1\n",
        "  for i in range(1,a+1):\n",
        "    fact=fact*i\n",
        "  print(fact)\n",
        "fact()\n",
        "\n",
        "def swap():\n",
        "  a=int(input(\"Enter the 1st value - \"))\n",
        "  b=int(input(\"Enter the 2nd value - \"))\n",
        "  c=a\n",
        "  a=b\n",
        "  b=c\n",
        "  print(\"The 1st value after swap - \",a)\n",
        "  print(\"The 2nd value after swap - \",b)\n",
        "swap()"
      ],
      "metadata": {
        "colab": {
          "base_uri": "https://localhost:8080/"
        },
        "id": "EgVZS947KmP5",
        "outputId": "23f32d23-019d-4347-e872-e54e6b8f78d2"
      },
      "execution_count": null,
      "outputs": [
        {
          "output_type": "stream",
          "name": "stdout",
          "text": [
            "Enter the 1st number - 5\n",
            "120\n",
            "Enter the 1st value - 5\n",
            "Enter the 2nd value - 10\n",
            "The 1st value after swap -  10\n",
            "The 2nd value after swap -  5\n"
          ]
        }
      ]
    },
    {
      "cell_type": "code",
      "source": [
        "def table():\n",
        "  a=int(input(\"Enter the value - \"))\n",
        "  for i in range(1,10+1):\n",
        "    ans=a*i\n",
        "    print(a,\" x \",i,\" = \",ans)\n",
        "table()\n",
        "\n",
        "def prime():\n",
        "  a = int(input(\"Enter the value - \"))\n",
        "\n",
        "  if a < 2:\n",
        "    print(\"Not prime\")\n",
        "  else:\n",
        "    is_prime = True\n",
        "    for i in range(2, a):\n",
        "        if a % i == 0:\n",
        "            is_prime = False\n",
        "            break\n",
        "\n",
        "    if is_prime:\n",
        "        print(\"Prime\")\n",
        "    else:\n",
        "        print(\"Not prime\")\n",
        "prime()"
      ],
      "metadata": {
        "colab": {
          "base_uri": "https://localhost:8080/"
        },
        "id": "Lci4ywltNiIF",
        "outputId": "6b7875f0-c182-450e-967a-21c2e8437508"
      },
      "execution_count": null,
      "outputs": [
        {
          "output_type": "stream",
          "name": "stdout",
          "text": [
            "Enter the value - 5\n",
            "5  x  1  =  5\n",
            "5  x  2  =  10\n",
            "5  x  3  =  15\n",
            "5  x  4  =  20\n",
            "5  x  5  =  25\n",
            "5  x  6  =  30\n",
            "5  x  7  =  35\n",
            "5  x  8  =  40\n",
            "5  x  9  =  45\n",
            "5  x  10  =  50\n",
            "Enter the value - 5\n",
            "Prime\n"
          ]
        }
      ]
    },
    {
      "cell_type": "code",
      "source": [
        "def rev():\n",
        "  a=int(input(\"Enter the Number - \"))\n",
        "  rev=0\n",
        "  while a != 0:\n",
        "    rem=a%10\n",
        "    rev=(rev*10)+rem\n",
        "    a=a//10\n",
        "\n",
        "  print(\"Reverse is - \",rev)\n",
        "rev()\n",
        "\n",
        "def sum():\n",
        "  a=int(input(\"Enter the Number - \"))\n",
        "  sum=0\n",
        "  while a != 0:\n",
        "    rem=a%10\n",
        "    sum=sum+rem\n",
        "    a=a//10\n",
        "\n",
        "  print(\"The sum of given number is - \",sum)\n",
        "sum()\n",
        "\n",
        "def abc():\n",
        "  a=int(input(\"Enter teh Number - \"))\n",
        "  num=0\n",
        "  while a != 0:\n",
        "    rem=a%10;\n",
        "    num=num+(rem*rem*rem)\n",
        "    a=a//10\n",
        "\n",
        "  print(\"The same number is - \",num)\n",
        "abc()"
      ],
      "metadata": {
        "colab": {
          "base_uri": "https://localhost:8080/"
        },
        "id": "SjhSRoQoTMHk",
        "outputId": "8d14e6c6-8b8b-4188-ad8f-36002a034ce0"
      },
      "execution_count": null,
      "outputs": [
        {
          "output_type": "stream",
          "name": "stdout",
          "text": [
            "Enter the Number - 135\n",
            "Reverse is -  531\n",
            "Enter the Number - 135\n",
            "The sum of given number is -  9\n",
            "Enter teh Number - 135\n",
            "The same number is -  153\n"
          ]
        }
      ]
    },
    {
      "cell_type": "code",
      "source": [
        "def abc(fname):\n",
        "  print(fname,\" Prajapati\")\n",
        "\n",
        "abc(\"Jigar\")\n",
        "abc(\"Ramesh\")\n",
        "abc(\"Suresh\")\n",
        "abc(\"Tripuresh\")"
      ],
      "metadata": {
        "colab": {
          "base_uri": "https://localhost:8080/"
        },
        "id": "mKq0y9VSV_32",
        "outputId": "5b24339c-4031-4c97-a86f-f568938a41ed"
      },
      "execution_count": null,
      "outputs": [
        {
          "output_type": "stream",
          "name": "stdout",
          "text": [
            "Jigar  Prajapati\n",
            "Ramesh  Prajapati\n",
            "Suresh  Prajapati\n",
            "Tripuresh  Prajapati\n"
          ]
        }
      ]
    },
    {
      "cell_type": "code",
      "source": [
        "def abc(fname):\n",
        "  print(fname,a)\n",
        "a=input(\"Enter the surename -\")\n",
        "b=input(\"Enter the 1 name -\")\n",
        "c=input(\"Enter the 2 name -\")\n",
        "d=input(\"Enter the 3 name -\")\n",
        "e=input(\"Enter the 4 name -\")\n",
        "abc(b)\n",
        "abc(c)\n",
        "abc(d)\n",
        "abc(e)"
      ],
      "metadata": {
        "colab": {
          "base_uri": "https://localhost:8080/"
        },
        "id": "7KbokVQyXeK9",
        "outputId": "fe206b5e-b22d-415a-80c0-83bc9a13b8ff"
      },
      "execution_count": null,
      "outputs": [
        {
          "output_type": "stream",
          "name": "stdout",
          "text": [
            "Enter the surename -Bait\n",
            "Enter the 1 name -Pradhyumna\n",
            "Enter the 2 name -Vishal\n",
            "Enter the 3 name -Karan\n",
            "Enter the 4 name -Arjun\n",
            "Pradhyumna Bait\n",
            "Vishal Bait\n",
            "Karan Bait\n",
            "Arjun Bait\n"
          ]
        }
      ]
    },
    {
      "cell_type": "code",
      "source": [
        "def xyz(fname,lname):\n",
        "  print(fname+\" \"+lname)\n",
        "xyz(\"Jigar\",\"Prajapt\")\n"
      ],
      "metadata": {
        "colab": {
          "base_uri": "https://localhost:8080/"
        },
        "id": "0MPMpuBQWGuz",
        "outputId": "2f23dfc8-21b2-4dbc-8be4-2df54822ee00"
      },
      "execution_count": null,
      "outputs": [
        {
          "output_type": "stream",
          "name": "stdout",
          "text": [
            "Jigar Prajapt\n"
          ]
        }
      ]
    },
    {
      "cell_type": "code",
      "source": [
        "def xyz(fname,lname):\n",
        "  print(fname+\" \"+lname)\n",
        "\n",
        "a=input(\"Enter The First Name\")\n",
        "b=input(\"Enter The Last Name\")\n",
        "\n",
        "xyz(a,b)"
      ],
      "metadata": {
        "colab": {
          "base_uri": "https://localhost:8080/"
        },
        "id": "vPsNnzhpXT8J",
        "outputId": "eaaa7431-ee7d-4846-e915-9b9bf5182cd2"
      },
      "execution_count": null,
      "outputs": [
        {
          "output_type": "stream",
          "name": "stdout",
          "text": [
            "Enter The First NamePradhyumna\n",
            "Enter The Last NameBait\n",
            "Pradhyumna Bait\n"
          ]
        }
      ]
    },
    {
      "cell_type": "code",
      "source": [
        "def abc(a,b,c):\n",
        "  print(\"The First name is - \",a)\n",
        "  print(\"The Second name is - \",b)\n",
        "  print(\"The Third name is - \",c)\n",
        "p=input(\"enter the name - \")\n",
        "q=input(\"enter the name - \")\n",
        "r=input(\"enter the name - \")\n",
        "abc(p,q,r)"
      ],
      "metadata": {
        "colab": {
          "base_uri": "https://localhost:8080/"
        },
        "id": "dikdz001YZl6",
        "outputId": "c0d6e268-1b52-457f-beb6-3a8d81e95a64"
      },
      "execution_count": null,
      "outputs": [
        {
          "output_type": "stream",
          "name": "stdout",
          "text": [
            "enter the name - Path\n",
            "enter the name - Yash\n",
            "enter the name - Bhavesh\n",
            "The First name is -  Path\n",
            "The Second name is -  Yash\n",
            "The Third name is -  Bhavesh\n"
          ]
        }
      ]
    },
    {
      "cell_type": "code",
      "source": [
        "def school(standard=\"12th\"):\n",
        "  print(\"I am in \",standard)\n",
        "\n",
        "school(\"11th\")\n",
        "school(\"10th\")\n",
        "school()\n",
        "school(\"9th\")"
      ],
      "metadata": {
        "colab": {
          "base_uri": "https://localhost:8080/"
        },
        "id": "YnHcEPHbTRYx",
        "outputId": "20e7a11c-98e2-4502-f15b-e8537ca169da"
      },
      "execution_count": null,
      "outputs": [
        {
          "output_type": "stream",
          "name": "stdout",
          "text": [
            "I am in  11th\n",
            "I am in  10th\n",
            "I am in  12th\n",
            "I am in  9th\n"
          ]
        }
      ]
    },
    {
      "cell_type": "code",
      "source": [
        "def ppp(a):\n",
        "  for x in a:\n",
        "    print(x)\n",
        "\n",
        "a=[\"Mango\",\"Graps\",\"Apple\",\"Chiku\",\"Santra\"]\n",
        "ppp(a)"
      ],
      "metadata": {
        "colab": {
          "base_uri": "https://localhost:8080/"
        },
        "id": "gIYmidsdWXIu",
        "outputId": "7a83b60e-e2fd-4c56-f315-02d4342dbb28"
      },
      "execution_count": null,
      "outputs": [
        {
          "output_type": "stream",
          "name": "stdout",
          "text": [
            "Mango\n",
            "Graps\n",
            "Apple\n",
            "Chiku\n",
            "Santra\n"
          ]
        }
      ]
    },
    {
      "cell_type": "code",
      "source": [
        "def compare():\n",
        "\n",
        "  a=int(input(\"Enter The First Number\"))\n",
        "  b=int(input(\"Enter The Second Number\"))\n",
        "  c=int(input(\"Enter The Third Number\"))\n",
        "\n",
        "  if a>b and a>c:\n",
        "    print(\"A is Bigger\",a)\n",
        "  elif b>a and b>c:\n",
        "    print(\"B is Bigger\",b)\n",
        "  else:\n",
        "    print(\"C is Bigger\",c)\n",
        "\n",
        "  if a<b and a<c:\n",
        "    print(\"A is Smaller\",a)\n",
        "  elif b<a and b<c:\n",
        "    print(\"B is Smaller\",b)\n",
        "  else:\n",
        "    print(\"C is Smaller\",c)\n",
        "compare()"
      ],
      "metadata": {
        "colab": {
          "base_uri": "https://localhost:8080/"
        },
        "id": "TS8Av9JVWhk3",
        "outputId": "2fa8e1bd-f327-4101-ebdf-c1b2d53e5fec"
      },
      "execution_count": null,
      "outputs": [
        {
          "output_type": "stream",
          "name": "stdout",
          "text": [
            "Enter The First Number1\n",
            "Enter The Second Number2\n",
            "Enter The Third Number3\n",
            "C is Bigger 3\n",
            "A is Smaller 1\n"
          ]
        }
      ]
    },
    {
      "cell_type": "code",
      "source": [
        "def result(a):\n",
        "\n",
        "  a=int(input(\"Enter Your Marks - \"))\n",
        "\n",
        "  if a>40:\n",
        "    return \"You are Pass\"\n",
        "  else:\n",
        "    return \" You are Fail\"\n",
        "\n",
        "print(result(a))"
      ],
      "metadata": {
        "colab": {
          "base_uri": "https://localhost:8080/"
        },
        "id": "q3OuRTmwW_Qr",
        "outputId": "4e2aa4ce-c373-407a-a4aa-3b8443b5b6ae"
      },
      "execution_count": null,
      "outputs": [
        {
          "output_type": "stream",
          "name": "stdout",
          "text": [
            "Enter Your Marks - 32\n",
            " You are Fail\n"
          ]
        }
      ]
    },
    {
      "cell_type": "code",
      "source": [
        "count = 0\n",
        "def doit(x):\n",
        "  global count\n",
        "  count = count + 1\n",
        "  return x + 1\n",
        "\n",
        "tst = [1,2,3,4,5,7,9,11]\n",
        "\n",
        "for i in range(len(tst)):\n",
        "  if tst[i] % 2!=0:\n",
        "    tst[i] = doit(tst[i])\n",
        "print(count)"
      ],
      "metadata": {
        "id": "KFEhXL5oXTWF",
        "outputId": "3a4b3ba2-06d0-4f03-ee48-e01ae5cce6fc",
        "colab": {
          "base_uri": "https://localhost:8080/"
        }
      },
      "execution_count": null,
      "outputs": [
        {
          "output_type": "stream",
          "name": "stdout",
          "text": [
            "6\n"
          ]
        }
      ]
    },
    {
      "cell_type": "code",
      "source": [
        "# When numbr of parameters or arguments are unknown that time use special symbol - *\n",
        "\n",
        "def name(*first):\n",
        "  print(\"The name of person is \"+first[1]+ \" and \"+first[2])\n",
        "\n",
        "name(\"Pradhyumna\",\"Karan\",\"Yash\")"
      ],
      "metadata": {
        "colab": {
          "base_uri": "https://localhost:8080/"
        },
        "id": "UQRJ5ZXDn8Ef",
        "outputId": "fd79fa88-6f29-4bb2-a3ad-b97deca150b7"
      },
      "execution_count": null,
      "outputs": [
        {
          "output_type": "stream",
          "name": "stdout",
          "text": [
            "The name of person is Karan and Yash\n"
          ]
        }
      ]
    },
    {
      "cell_type": "code",
      "source": [
        "def name(a,b,c):\n",
        "  print(\"The first name of the person is - \",c)\n",
        "\n",
        "name(a=\"Pradhyumna\",b=\"Yash\",c=\"\")"
      ],
      "metadata": {
        "id": "3aI07O6apF23"
      },
      "execution_count": null,
      "outputs": []
    },
    {
      "cell_type": "markdown",
      "source": [
        "# **17/06/2025 - Day 8 - Date and Time Module**\n",
        "\n"
      ],
      "metadata": {
        "id": "bRYUInxAdKMo"
      }
    },
    {
      "cell_type": "code",
      "source": [
        "import datetime\n",
        "\n",
        "x = datetime.datetime.now()\n",
        "\n",
        "print(x)"
      ],
      "metadata": {
        "colab": {
          "base_uri": "https://localhost:8080/"
        },
        "id": "_8QuewAGdWco",
        "outputId": "2f1e71cf-8724-45fb-dabe-6e08d57b7552"
      },
      "execution_count": null,
      "outputs": [
        {
          "output_type": "stream",
          "name": "stdout",
          "text": [
            "2025-06-17 15:16:10.665340\n"
          ]
        }
      ]
    },
    {
      "cell_type": "code",
      "source": [
        "import datetime\n",
        "\n",
        "a = datetime.datetime.today()\n",
        "\n",
        "print(a)"
      ],
      "metadata": {
        "colab": {
          "base_uri": "https://localhost:8080/"
        },
        "id": "RJRVf4N2dkqg",
        "outputId": "00e5b34e-3e16-46cd-9e15-661a725d1a0b"
      },
      "execution_count": null,
      "outputs": [
        {
          "output_type": "stream",
          "name": "stdout",
          "text": [
            "2025-06-17 15:16:47.140814\n"
          ]
        }
      ]
    },
    {
      "cell_type": "code",
      "source": [
        "import datetime\n",
        "b = datetime.datetime.today()\n",
        "\n",
        "print(b.year)\n",
        "print(b.month)\n",
        "print(b.day)"
      ],
      "metadata": {
        "colab": {
          "base_uri": "https://localhost:8080/"
        },
        "id": "RU1-0fqiduho",
        "outputId": "d2fbc554-76f0-4245-e763-5ca45564bf77"
      },
      "execution_count": null,
      "outputs": [
        {
          "output_type": "stream",
          "name": "stdout",
          "text": [
            "2025\n",
            "6\n",
            "17\n"
          ]
        }
      ]
    },
    {
      "cell_type": "code",
      "source": [
        "from datetime import datetime\n",
        "\n",
        "time = datetime.now()\n",
        "\n",
        "a = time.strftime('%H / %M / %S')\n",
        "\n",
        "print(\"Current time is - \",a)"
      ],
      "metadata": {
        "colab": {
          "base_uri": "https://localhost:8080/"
        },
        "id": "JC9hJQwNeIGw",
        "outputId": "e127a11b-8774-43c2-c267-4ddd9d1737ad"
      },
      "execution_count": null,
      "outputs": [
        {
          "output_type": "stream",
          "name": "stdout",
          "text": [
            "Current time is -  11 / 35 / 34\n"
          ]
        }
      ]
    },
    {
      "cell_type": "code",
      "source": [
        "import datetime\n",
        "import time\n",
        "\n",
        "# Get current date and time\n",
        "now = datetime.datetime.now()\n",
        "print(\"Now - \",now)\n",
        "\n",
        "# Current date only\n",
        "date = datetime.date.today()\n",
        "print(\"Date is - \",date)\n",
        "\n",
        "# Current time only\n",
        "time = datetime.datetime.now().time()\n",
        "print(\"Time is - \",time)"
      ],
      "metadata": {
        "colab": {
          "base_uri": "https://localhost:8080/"
        },
        "id": "2wHBVtpi0u8K",
        "outputId": "4781e306-9c40-48df-ef6a-06fa7db2d67c"
      },
      "execution_count": null,
      "outputs": [
        {
          "output_type": "stream",
          "name": "stdout",
          "text": [
            "Now -  2025-06-18 11:39:29.199848\n",
            "Date is -  2025-06-18\n",
            "Time is -  11:39:29.200082\n"
          ]
        }
      ]
    },
    {
      "cell_type": "code",
      "source": [
        "# Custom Date and time\n",
        "\n",
        "import datetime\n",
        "import time\n",
        "\n",
        "# Custiom date : year, month, day\n",
        "d = datetime.date(2025, 6, 17)\n",
        "print(\"Custom date - \",d)\n",
        "\n",
        "#Custom time : Hour, min, time\n",
        "t = datetime.time(14, 30, 50)\n",
        "print(\"Custom time - \",t)\n",
        "\n",
        "#Custom date and time both\n",
        "dt = datetime.datetime(2025, 6, 17, 14, 30, 17)\n",
        "print(\"Custom date time is - \",dt)"
      ],
      "metadata": {
        "colab": {
          "base_uri": "https://localhost:8080/"
        },
        "id": "yKbGNSDo1qlH",
        "outputId": "b85025b8-492c-47e8-96e0-4ece0fef06eb"
      },
      "execution_count": null,
      "outputs": [
        {
          "output_type": "stream",
          "name": "stdout",
          "text": [
            "Custom date -  2025-06-17\n",
            "Custom time -  14:30:50\n",
            "Custom date time is -  2025-06-17 14:30:17\n"
          ]
        }
      ]
    },
    {
      "cell_type": "code",
      "source": [
        "# Access date and time components\n",
        "\n",
        "import datetime\n",
        "import time\n",
        "\n",
        "now = datetime.datetime.now()\n",
        "\n",
        "print(\"Year - \", now.year)\n",
        "print(\"Month - \",now.month)\n",
        "print(\"Day - \",now.day)\n",
        "print(\"Hour - \",now.hour)\n",
        "print(\"Minate - \",now.minute)\n",
        "print(\"Seconds - \",now.second)"
      ],
      "metadata": {
        "colab": {
          "base_uri": "https://localhost:8080/"
        },
        "id": "GrA-kAUe2xZp",
        "outputId": "d131836c-1554-486b-97a0-fd21b1d77236"
      },
      "execution_count": null,
      "outputs": [
        {
          "output_type": "stream",
          "name": "stdout",
          "text": [
            "Year -  2025\n",
            "Month -  6\n",
            "Day -  18\n",
            "Hour -  11\n",
            "Minate -  48\n",
            "Seconds -  1\n"
          ]
        }
      ]
    },
    {
      "cell_type": "code",
      "source": [
        "# Formating date and time\n",
        "\n",
        "import datetime\n",
        "import time\n",
        "\n",
        "now = datetime.datetime.now()\n",
        "\n",
        "# Format using strftime\n",
        "print(\"Formated - \", now.strftime(\"%Y-%m-%d  %H:%M:%S\"))\n",
        "\n",
        "# Other formating\n",
        "print(now.strftime(\"%d/%m/%y\"))\n",
        "print(now.strftime(\"%I-%M-%p\"))  # 12-hour clock\n",
        "print(now.strftime(\"%A, %B, %d, %Y\"))  # Full weekday, month name"
      ],
      "metadata": {
        "colab": {
          "base_uri": "https://localhost:8080/"
        },
        "id": "GLXNkeyE23ZX",
        "outputId": "6e200754-9f69-4703-fa67-3898e47d930d"
      },
      "execution_count": null,
      "outputs": [
        {
          "output_type": "stream",
          "name": "stdout",
          "text": [
            "Formated -  2025-06-18  11:53:32\n",
            "18/06/25\n",
            "11-53-AM\n",
            "Wednesday, June, 18, 2025\n"
          ]
        }
      ]
    },
    {
      "cell_type": "code",
      "source": [
        "# Converting string to date ( Strptime )\n",
        "\n",
        "import datetime\n",
        "import time\n",
        "\n",
        "date_sting = \"18-06-2025\"\n",
        "\n",
        "d = datetime.datetime.strptime(date_sting, \"%d-%m-%Y\")\n",
        "print(\"Parsed date - \",d)"
      ],
      "metadata": {
        "colab": {
          "base_uri": "https://localhost:8080/"
        },
        "id": "zZYbwFx944O-",
        "outputId": "0d55e84b-3e9c-409b-8a6a-5b809287728a"
      },
      "execution_count": null,
      "outputs": [
        {
          "output_type": "stream",
          "name": "stdout",
          "text": [
            "Parsed date -  2025-06-18 00:00:00\n"
          ]
        }
      ]
    },
    {
      "cell_type": "code",
      "source": [
        "# Date arithmetic with timedelta\n",
        "\n",
        "import datetime\n",
        "import time\n",
        "\n",
        "# add/ subtract days\n",
        "today = datetime.date.today()\n",
        "tommorow = today + datetime.timedelta(days=1)\n",
        "yesterday = today - datetime.timedelta(days=1)\n",
        "\n",
        "print(\"Todays date is - \",today)\n",
        "print(\"Tommorows date will be - \",tommorow)\n",
        "print(\"Yesterdays date was - \",yesterday)\n",
        "\n",
        "# add/subtract time\n",
        "now = datetime.datetime.now()\n",
        "after_2hrs = now +  datetime.timedelta(hours=2)\n",
        "before_2hrs = now - datetime.timedelta(hours=2)\n",
        "\n",
        "print(\"Current time is - \",now)\n",
        "print(\"After 2hrs time will be - \",after_2hrs)\n",
        "print(\"Before 2hrs time was - \",before_2hrs)"
      ],
      "metadata": {
        "colab": {
          "base_uri": "https://localhost:8080/"
        },
        "id": "4bJR-bXC5rEP",
        "outputId": "ab7d0906-b002-4ff8-b9b0-b1793a0881e9"
      },
      "execution_count": null,
      "outputs": [
        {
          "output_type": "stream",
          "name": "stdout",
          "text": [
            "Todays date is -  2025-06-18\n",
            "Tommorows date will be -  2025-06-19\n",
            "Yesterdays date was -  2025-06-17\n",
            "Current time is -  2025-06-18 12:11:40.426515\n",
            "After 2hrs time will be -  2025-06-18 14:11:40.426515\n",
            "Before 2hrs time was -  2025-06-18 10:11:40.426515\n"
          ]
        }
      ]
    },
    {
      "cell_type": "code",
      "source": [
        "# Pause Exection\n",
        "\n",
        "print(\"Wait 5 seconds\")\n",
        "\n",
        "time.sleep(5)\n",
        "print(\"Done!\")"
      ],
      "metadata": {
        "colab": {
          "base_uri": "https://localhost:8080/"
        },
        "id": "LRvh1iB19BZP",
        "outputId": "82c60118-3a48-4a08-bd30-4b1b44cc7ecb"
      },
      "execution_count": null,
      "outputs": [
        {
          "output_type": "stream",
          "name": "stdout",
          "text": [
            "Wait 5 seconds\n",
            "Done!\n"
          ]
        }
      ]
    },
    {
      "cell_type": "code",
      "source": [
        "# Unix Timestamps\n",
        "\n",
        "# Get timestamp from datetime\n",
        "now  = datetime.datetime.now()\n",
        "time_stamp = now.timestamp()\n",
        "print(\"Unix TimeStamp - \",time_stamp)\n",
        "\n",
        "# Conver timestamp to datetime\n",
        "dt_from_ts = datetime.datetime.fromtimestamp(time_stamp)\n",
        "print(\"Date time from timestamp - \",dt_from_ts)"
      ],
      "metadata": {
        "colab": {
          "base_uri": "https://localhost:8080/"
        },
        "id": "gscCShY99bOR",
        "outputId": "be98412e-654a-49d5-ab87-5a379f6475e1"
      },
      "execution_count": null,
      "outputs": [
        {
          "output_type": "stream",
          "name": "stdout",
          "text": [
            "Unix TimeStamp -  1750249064.635756\n",
            "Date time from timestamp -  2025-06-18 12:17:44.635756\n"
          ]
        }
      ]
    },
    {
      "cell_type": "code",
      "source": [
        "# Comparing dates\n",
        "\n",
        "d1 = datetime.date(2025, 6, 18)\n",
        "d2 = datetime.date(2025, 7, 1)\n",
        "\n",
        "print(\"Is d1 > d2 ?\", d1 > d2)\n",
        "print(\"Difference is - \",d1 - d2)"
      ],
      "metadata": {
        "colab": {
          "base_uri": "https://localhost:8080/"
        },
        "id": "M-1Xp3iN-aEH",
        "outputId": "1ab4ac84-e693-4221-bcd8-e36c41054aff"
      },
      "execution_count": null,
      "outputs": [
        {
          "output_type": "stream",
          "name": "stdout",
          "text": [
            "Is d1 > d2 ? False\n",
            "Difference is -  -13 days, 0:00:00\n"
          ]
        }
      ]
    },
    {
      "cell_type": "code",
      "source": [
        "# Get Weekdays\n",
        "\n",
        "today = datetime.date.today()\n",
        "\n",
        "print(\"Weekday (0=Monday): \",today.weekday())\n",
        "print(\"Weekday (0=Sunday): \",today.isoweekday())  # 1=Monday ... 7=Sunday"
      ],
      "metadata": {
        "colab": {
          "base_uri": "https://localhost:8080/"
        },
        "id": "Bjb8Lket--Wd",
        "outputId": "51b91773-c88d-4758-f64e-6f49ab4cc25d"
      },
      "execution_count": null,
      "outputs": [
        {
          "output_type": "stream",
          "name": "stdout",
          "text": [
            "Weekday (0=Monday):  2\n",
            "Weekday (0=Sunday):  3\n"
          ]
        }
      ]
    },
    {
      "cell_type": "code",
      "source": [
        "# Get the ISO Format of DateTime\n",
        "\n",
        "now = datetime.datetime.now()\n",
        "print(\"ISO Format:\", now.isoformat())"
      ],
      "metadata": {
        "colab": {
          "base_uri": "https://localhost:8080/"
        },
        "id": "c0Q_wN67GZU6",
        "outputId": "36acd710-5ac0-4c7b-c12a-f8d77bd721ef"
      },
      "execution_count": null,
      "outputs": [
        {
          "output_type": "stream",
          "name": "stdout",
          "text": [
            "ISO Format: 2025-06-18T12:53:03.274626\n"
          ]
        }
      ]
    },
    {
      "cell_type": "code",
      "source": [
        "# Check if Date is a Weekend\n",
        "\n",
        "d = datetime.date.today()\n",
        "if d.weekday() >= 5:\n",
        "    print(\"Weekend!\")\n",
        "else:\n",
        "    print(\"Weekday.\")"
      ],
      "metadata": {
        "colab": {
          "base_uri": "https://localhost:8080/"
        },
        "id": "uZie0EunGkTa",
        "outputId": "f6cce8c6-6893-444d-bd81-95b5c2d03c01"
      },
      "execution_count": null,
      "outputs": [
        {
          "output_type": "stream",
          "name": "stdout",
          "text": [
            "Weekday.\n"
          ]
        }
      ]
    },
    {
      "cell_type": "code",
      "source": [
        "# Display Calendar for a Month (Text)\n",
        "\n",
        "import calendar\n",
        "\n",
        "year = 2025\n",
        "month = 6\n",
        "\n",
        "print(calendar.month(year, month))"
      ],
      "metadata": {
        "colab": {
          "base_uri": "https://localhost:8080/"
        },
        "id": "8oSLRc-VGxyG",
        "outputId": "0efba0b5-6cf4-47fc-b2d1-a5c1cb7e473d"
      },
      "execution_count": null,
      "outputs": [
        {
          "output_type": "stream",
          "name": "stdout",
          "text": [
            "     June 2025\n",
            "Mo Tu We Th Fr Sa Su\n",
            "                   1\n",
            " 2  3  4  5  6  7  8\n",
            " 9 10 11 12 13 14 15\n",
            "16 17 18 19 20 21 22\n",
            "23 24 25 26 27 28 29\n",
            "30\n",
            "\n"
          ]
        }
      ]
    }
  ]
}